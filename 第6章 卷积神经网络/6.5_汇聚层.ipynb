{
 "cells": [
  {
   "metadata": {},
   "cell_type": "markdown",
   "source": "### 6.5.1 最大汇聚和平均汇聚",
   "id": "1c70f30b4be5ccf5"
  },
  {
   "cell_type": "code",
   "id": "initial_id",
   "metadata": {
    "collapsed": true,
    "ExecuteTime": {
     "end_time": "2025-09-13T03:37:58.045031Z",
     "start_time": "2025-09-13T03:37:55.704997Z"
    }
   },
   "source": [
    "import torch\n",
    "from torch import nn\n",
    "from d2l import torch as d2l"
   ],
   "outputs": [],
   "execution_count": 1
  },
  {
   "metadata": {
    "ExecuteTime": {
     "end_time": "2025-09-13T03:39:55.683353Z",
     "start_time": "2025-09-13T03:39:55.665735Z"
    }
   },
   "cell_type": "code",
   "source": [
    "def pool2d(X, pool_size, mode='max'):\n",
    "    p_h, p_w = pool_size\n",
    "    Y = torch.zeros((X.shape[0] - p_h + 1, X.shape[1] - p_w + 1))\n",
    "    for i in range(Y.shape[0]):\n",
    "        for j in range(Y.shape[1]):\n",
    "            if mode == 'max':\n",
    "                Y[i, j] = X[i:i + p_h, j:j + p_w].max()\n",
    "            elif mode == 'mean':\n",
    "                Y[i, j] = X[i:i + p_h, j:j + p_w].mean()\n",
    "    return Y"
   ],
   "id": "51e092a85715db3c",
   "outputs": [],
   "execution_count": 3
  },
  {
   "metadata": {
    "ExecuteTime": {
     "end_time": "2025-09-13T03:41:13.412912Z",
     "start_time": "2025-09-13T03:41:13.400906Z"
    }
   },
   "cell_type": "code",
   "source": [
    "X = torch.tensor([\n",
    "    [0, 1, 2],\n",
    "    [3, 4, 5],\n",
    "    [6, 7, 8],\n",
    "], dtype=torch.float32)"
   ],
   "id": "eeac3c5b66c292b4",
   "outputs": [],
   "execution_count": 4
  },
  {
   "metadata": {
    "ExecuteTime": {
     "end_time": "2025-09-13T03:41:13.907609Z",
     "start_time": "2025-09-13T03:41:13.869347Z"
    }
   },
   "cell_type": "code",
   "source": "pool2d(X, (2, 2), mode='max')",
   "id": "11ef73a9d0f277d3",
   "outputs": [
    {
     "data": {
      "text/plain": [
       "tensor([[4., 5.],\n",
       "        [7., 8.]])"
      ]
     },
     "execution_count": 5,
     "metadata": {},
     "output_type": "execute_result"
    }
   ],
   "execution_count": 5
  },
  {
   "metadata": {
    "ExecuteTime": {
     "end_time": "2025-09-13T03:41:14.309195Z",
     "start_time": "2025-09-13T03:41:14.295408Z"
    }
   },
   "cell_type": "code",
   "source": "pool2d(X, (2, 2), mode='mean')",
   "id": "a3c98e53a8d2c4ad",
   "outputs": [
    {
     "data": {
      "text/plain": [
       "tensor([[2., 3.],\n",
       "        [5., 6.]])"
      ]
     },
     "execution_count": 6,
     "metadata": {},
     "output_type": "execute_result"
    }
   ],
   "execution_count": 6
  },
  {
   "metadata": {},
   "cell_type": "markdown",
   "source": "### 6.5.2 填充和步幅",
   "id": "9c9ba7989f112170"
  },
  {
   "metadata": {
    "ExecuteTime": {
     "end_time": "2025-09-13T03:53:39.140071Z",
     "start_time": "2025-09-13T03:53:39.095105Z"
    }
   },
   "cell_type": "code",
   "source": [
    "X = torch.arange(16, dtype=torch.float32).reshape((1, 1, 4, 4))\n",
    "X"
   ],
   "id": "7666cef1accb854b",
   "outputs": [
    {
     "data": {
      "text/plain": [
       "tensor([[[[ 0.,  1.,  2.,  3.],\n",
       "          [ 4.,  5.,  6.,  7.],\n",
       "          [ 8.,  9., 10., 11.],\n",
       "          [12., 13., 14., 15.]]]])"
      ]
     },
     "execution_count": 7,
     "metadata": {},
     "output_type": "execute_result"
    }
   ],
   "execution_count": 7
  },
  {
   "metadata": {
    "ExecuteTime": {
     "end_time": "2025-09-13T03:55:02.463589Z",
     "start_time": "2025-09-13T03:55:02.450588Z"
    }
   },
   "cell_type": "code",
   "source": [
    "pool2d = nn.MaxPool2d(3)\n",
    "pool2d(X), pool2d(X).shape"
   ],
   "id": "9780cfe2a74ada54",
   "outputs": [
    {
     "data": {
      "text/plain": [
       "(tensor([[[[10.]]]]), torch.Size([1, 1, 1, 1]))"
      ]
     },
     "execution_count": 9,
     "metadata": {},
     "output_type": "execute_result"
    }
   ],
   "execution_count": 9
  },
  {
   "metadata": {
    "ExecuteTime": {
     "end_time": "2025-09-13T03:55:45.564904Z",
     "start_time": "2025-09-13T03:55:45.551807Z"
    }
   },
   "cell_type": "code",
   "source": [
    "pool2d = nn.MaxPool2d((2, 3), stride=(2, 3), padding=(0, 1))\n",
    "pool2d(X)"
   ],
   "id": "a7048a79b6798c7b",
   "outputs": [
    {
     "data": {
      "text/plain": [
       "tensor([[[[ 5.,  7.],\n",
       "          [13., 15.]]]])"
      ]
     },
     "execution_count": 10,
     "metadata": {},
     "output_type": "execute_result"
    }
   ],
   "execution_count": 10
  },
  {
   "metadata": {},
   "cell_type": "markdown",
   "source": "### 6.5.3 多个通道",
   "id": "efda1408d9111e39"
  },
  {
   "metadata": {
    "ExecuteTime": {
     "end_time": "2025-09-13T04:00:57.847118Z",
     "start_time": "2025-09-13T04:00:57.838101Z"
    }
   },
   "cell_type": "code",
   "source": [
    "X1 = torch.cat((X, X + 1), dim=1)  # 总维度不增加\n",
    "X2 = torch.stack((X, X + 1), dim=1)  # 总维度增加"
   ],
   "id": "61886cdd4f183bc5",
   "outputs": [],
   "execution_count": 20
  },
  {
   "metadata": {
    "ExecuteTime": {
     "end_time": "2025-09-13T04:01:37.551353Z",
     "start_time": "2025-09-13T04:01:37.539730Z"
    }
   },
   "cell_type": "code",
   "source": "X1.shape",
   "id": "b13fdb813078a82e",
   "outputs": [
    {
     "data": {
      "text/plain": [
       "torch.Size([1, 2, 4, 4])"
      ]
     },
     "execution_count": 26,
     "metadata": {},
     "output_type": "execute_result"
    }
   ],
   "execution_count": 26
  },
  {
   "metadata": {
    "ExecuteTime": {
     "end_time": "2025-09-13T04:02:04.768896Z",
     "start_time": "2025-09-13T04:02:04.755339Z"
    }
   },
   "cell_type": "code",
   "source": [
    "pool2d = nn.MaxPool2d(3, padding=1, stride=2)\n",
    "pool2d(X1)"
   ],
   "id": "fd072032e4cef3d0",
   "outputs": [
    {
     "data": {
      "text/plain": [
       "tensor([[[[ 5.,  7.],\n",
       "          [13., 15.]],\n",
       "\n",
       "         [[ 6.,  8.],\n",
       "          [14., 16.]]]])"
      ]
     },
     "execution_count": 27,
     "metadata": {},
     "output_type": "execute_result"
    }
   ],
   "execution_count": 27
  }
 ],
 "metadata": {
  "kernelspec": {
   "display_name": "Python 3",
   "language": "python",
   "name": "python3"
  },
  "language_info": {
   "codemirror_mode": {
    "name": "ipython",
    "version": 2
   },
   "file_extension": ".py",
   "mimetype": "text/x-python",
   "name": "python",
   "nbconvert_exporter": "python",
   "pygments_lexer": "ipython2",
   "version": "2.7.6"
  }
 },
 "nbformat": 4,
 "nbformat_minor": 5
}
