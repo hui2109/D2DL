{
 "cells": [
  {
   "metadata": {},
   "cell_type": "markdown",
   "source": "### 6.2.1 互相关运算",
   "id": "5374475e72604f4b"
  },
  {
   "cell_type": "code",
   "id": "initial_id",
   "metadata": {
    "collapsed": true,
    "ExecuteTime": {
     "end_time": "2025-09-11T15:11:52.768314Z",
     "start_time": "2025-09-11T15:11:48.218508Z"
    }
   },
   "source": [
    "import torch\n",
    "from torch import nn\n",
    "from d2l import torch as d2l"
   ],
   "outputs": [],
   "execution_count": 1
  },
  {
   "metadata": {
    "ExecuteTime": {
     "end_time": "2025-09-11T15:12:18.790140Z",
     "start_time": "2025-09-11T15:12:18.777242Z"
    }
   },
   "cell_type": "code",
   "source": "d2l.corr2d",
   "id": "f0f171d6bf5e2c1e",
   "outputs": [
    {
     "data": {
      "text/plain": [
       "<function d2l.torch.corr2d(X, K)>"
      ]
     },
     "execution_count": 2,
     "metadata": {},
     "output_type": "execute_result"
    }
   ],
   "execution_count": 2
  },
  {
   "metadata": {
    "ExecuteTime": {
     "end_time": "2025-09-11T15:13:52.753349Z",
     "start_time": "2025-09-11T15:13:52.695034Z"
    }
   },
   "cell_type": "code",
   "source": [
    "X = torch.tensor([\n",
    "    [0, 1, 2],\n",
    "    [3, 4, 5],\n",
    "    [6, 7, 8],\n",
    "], dtype=torch.float32)\n",
    "K = torch.tensor([\n",
    "    [0, 1],\n",
    "    [2, 3],\n",
    "], dtype=torch.float32)\n",
    "d2l.corr2d(X, K)"
   ],
   "id": "97b5ef890cf13ea8",
   "outputs": [
    {
     "data": {
      "text/plain": [
       "tensor([[19., 25.],\n",
       "        [37., 43.]])"
      ]
     },
     "execution_count": 3,
     "metadata": {},
     "output_type": "execute_result"
    }
   ],
   "execution_count": 3
  },
  {
   "metadata": {},
   "cell_type": "markdown",
   "source": "### 6.2.2 卷积层",
   "id": "808afa096eaef51"
  },
  {
   "metadata": {
    "ExecuteTime": {
     "end_time": "2025-09-11T15:18:16.395962Z",
     "start_time": "2025-09-11T15:18:16.382943Z"
    }
   },
   "cell_type": "code",
   "source": [
    "class Conv2D(nn.Module):\n",
    "    def __init__(self, kernel_size):\n",
    "        super(Conv2D, self).__init__()\n",
    "\n",
    "        self.weight = nn.Parameter(torch.randn(kernel_size))\n",
    "        self.bias = nn.Parameter(torch.zeros(1))\n",
    "\n",
    "    def forward(self, x):\n",
    "        return d2l.conv2d(x, self.weight, self.bias)"
   ],
   "id": "b3397bad9186667b",
   "outputs": [],
   "execution_count": 4
  },
  {
   "metadata": {},
   "cell_type": "markdown",
   "source": "### 6.2.3 图像中目标的边缘检测",
   "id": "e3fdb9940b07f08e"
  },
  {
   "metadata": {
    "ExecuteTime": {
     "end_time": "2025-09-11T15:33:50.630347Z",
     "start_time": "2025-09-11T15:33:50.586692Z"
    }
   },
   "cell_type": "code",
   "source": [
    "X = torch.ones([6, 8])\n",
    "X[:, 2:6] = 0\n",
    "X"
   ],
   "id": "3e55b39de1b09e76",
   "outputs": [
    {
     "data": {
      "text/plain": [
       "tensor([[1., 1., 0., 0., 0., 0., 1., 1.],\n",
       "        [1., 1., 0., 0., 0., 0., 1., 1.],\n",
       "        [1., 1., 0., 0., 0., 0., 1., 1.],\n",
       "        [1., 1., 0., 0., 0., 0., 1., 1.],\n",
       "        [1., 1., 0., 0., 0., 0., 1., 1.],\n",
       "        [1., 1., 0., 0., 0., 0., 1., 1.]])"
      ]
     },
     "execution_count": 5,
     "metadata": {},
     "output_type": "execute_result"
    }
   ],
   "execution_count": 5
  },
  {
   "metadata": {
    "ExecuteTime": {
     "end_time": "2025-09-11T15:34:20.837236Z",
     "start_time": "2025-09-11T15:34:20.822212Z"
    }
   },
   "cell_type": "code",
   "source": "K = torch.tensor([[1.0, -1.0]])",
   "id": "b73e31faaf4fb42",
   "outputs": [],
   "execution_count": 6
  },
  {
   "metadata": {
    "ExecuteTime": {
     "end_time": "2025-09-11T15:34:34.863486Z",
     "start_time": "2025-09-11T15:34:34.849510Z"
    }
   },
   "cell_type": "code",
   "source": [
    "Y = d2l.corr2d(X, K)\n",
    "Y"
   ],
   "id": "9df262dd9d765617",
   "outputs": [
    {
     "data": {
      "text/plain": [
       "tensor([[ 0.,  1.,  0.,  0.,  0., -1.,  0.],\n",
       "        [ 0.,  1.,  0.,  0.,  0., -1.,  0.],\n",
       "        [ 0.,  1.,  0.,  0.,  0., -1.,  0.],\n",
       "        [ 0.,  1.,  0.,  0.,  0., -1.,  0.],\n",
       "        [ 0.,  1.,  0.,  0.,  0., -1.,  0.],\n",
       "        [ 0.,  1.,  0.,  0.,  0., -1.,  0.]])"
      ]
     },
     "execution_count": 7,
     "metadata": {},
     "output_type": "execute_result"
    }
   ],
   "execution_count": 7
  },
  {
   "metadata": {
    "ExecuteTime": {
     "end_time": "2025-09-11T15:35:04.916407Z",
     "start_time": "2025-09-11T15:35:04.870473Z"
    }
   },
   "cell_type": "code",
   "source": "d2l.corr2d(X.T, K)  # 只可以检测垂直边缘, 无法检测水平边缘",
   "id": "447d2007a1b6730c",
   "outputs": [
    {
     "data": {
      "text/plain": [
       "tensor([[0., 0., 0., 0., 0.],\n",
       "        [0., 0., 0., 0., 0.],\n",
       "        [0., 0., 0., 0., 0.],\n",
       "        [0., 0., 0., 0., 0.],\n",
       "        [0., 0., 0., 0., 0.],\n",
       "        [0., 0., 0., 0., 0.],\n",
       "        [0., 0., 0., 0., 0.],\n",
       "        [0., 0., 0., 0., 0.]])"
      ]
     },
     "execution_count": 8,
     "metadata": {},
     "output_type": "execute_result"
    }
   ],
   "execution_count": 8
  },
  {
   "metadata": {},
   "cell_type": "markdown",
   "source": "### 6.2.4 学习卷积核",
   "id": "ca7d7ce7a54f889b"
  },
  {
   "metadata": {
    "ExecuteTime": {
     "end_time": "2025-09-11T15:47:37.922760Z",
     "start_time": "2025-09-11T15:47:37.911246Z"
    }
   },
   "cell_type": "code",
   "source": [
    "conv2d = nn.Conv2d(1, 1, kernel_size=[1, 2], bias=False)\n",
    "\n",
    "X = X.reshape([1, 1, 6, 8])\n",
    "Y = Y.reshape([1, 1, 6, 7])\n",
    "lr = 3e-2\n",
    "\n",
    "for i in range(10):\n",
    "    Y_hat = conv2d(X)\n",
    "    l = (Y_hat - Y) ** 2\n",
    "    conv2d.zero_grad()\n",
    "    l.sum().backward()\n",
    "    conv2d.weight.data[:] -= lr * conv2d.weight.grad\n",
    "\n",
    "    if (i + 1) % 2 == 0:\n",
    "        print(f'epoch {i + 1}, loss {l.sum():.3f}')"
   ],
   "id": "8d53739e518f634d",
   "outputs": [
    {
     "name": "stdout",
     "output_type": "stream",
     "text": [
      "epoch 2, loss 6.059\n",
      "epoch 4, loss 1.609\n",
      "epoch 6, loss 0.513\n",
      "epoch 8, loss 0.185\n",
      "epoch 10, loss 0.072\n"
     ]
    }
   ],
   "execution_count": 12
  },
  {
   "metadata": {
    "ExecuteTime": {
     "end_time": "2025-09-11T15:47:50.379239Z",
     "start_time": "2025-09-11T15:47:50.365300Z"
    }
   },
   "cell_type": "code",
   "source": "conv2d.weight.data.reshape([1, 2])",
   "id": "c89cb6e7cc779a00",
   "outputs": [
    {
     "data": {
      "text/plain": [
       "tensor([[ 1.0172, -0.9630]])"
      ]
     },
     "execution_count": 13,
     "metadata": {},
     "output_type": "execute_result"
    }
   ],
   "execution_count": 13
  }
 ],
 "metadata": {
  "kernelspec": {
   "display_name": "Python 3",
   "language": "python",
   "name": "python3"
  },
  "language_info": {
   "codemirror_mode": {
    "name": "ipython",
    "version": 2
   },
   "file_extension": ".py",
   "mimetype": "text/x-python",
   "name": "python",
   "nbconvert_exporter": "python",
   "pygments_lexer": "ipython2",
   "version": "2.7.6"
  }
 },
 "nbformat": 4,
 "nbformat_minor": 5
}
