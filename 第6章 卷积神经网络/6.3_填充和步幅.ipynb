{
 "cells": [
  {
   "metadata": {},
   "cell_type": "markdown",
   "source": "### 6.3.1 填充",
   "id": "f07575726ba9e852"
  },
  {
   "cell_type": "code",
   "id": "initial_id",
   "metadata": {
    "collapsed": true,
    "ExecuteTime": {
     "end_time": "2025-09-13T02:16:25.461004Z",
     "start_time": "2025-09-13T02:16:22.946469Z"
    }
   },
   "source": [
    "import torch\n",
    "from torch import nn"
   ],
   "outputs": [],
   "execution_count": 1
  },
  {
   "metadata": {
    "ExecuteTime": {
     "end_time": "2025-09-13T02:19:40.165993Z",
     "start_time": "2025-09-13T02:19:40.151977Z"
    }
   },
   "cell_type": "code",
   "source": [
    "def comp_conv2d(conv2d, X):\n",
    "    X = X.reshape((1, 1) + X.shape)\n",
    "    Y = conv2d(X)\n",
    "    return Y.reshape(Y.shape[2:])"
   ],
   "id": "a7b446f7d9d92975",
   "outputs": [],
   "execution_count": 9
  },
  {
   "metadata": {
    "ExecuteTime": {
     "end_time": "2025-09-13T02:19:40.703888Z",
     "start_time": "2025-09-13T02:19:40.691883Z"
    }
   },
   "cell_type": "code",
   "source": [
    "conv2d = nn.Conv2d(1, 1, kernel_size=3, padding=1)\n",
    "X = torch.rand([8, 8])\n",
    "comp_conv2d(conv2d, X)"
   ],
   "id": "b54f422108ee041b",
   "outputs": [
    {
     "data": {
      "text/plain": [
       "tensor([[-1.8111e-02, -4.1161e-03,  6.4621e-02,  1.3241e-01,  8.2275e-02,\n",
       "         -5.3197e-02,  1.9893e-02,  2.0365e-01],\n",
       "        [ 3.0668e-01,  3.0969e-01,  7.2027e-03, -8.0723e-02,  2.3235e-01,\n",
       "          1.8284e-01,  4.5084e-02, -1.0429e-01],\n",
       "        [-7.2829e-03, -2.6735e-01,  1.4951e-01,  2.0403e-01,  1.6000e-02,\n",
       "          2.2304e-01,  1.4568e-01, -6.1336e-03],\n",
       "        [ 3.2059e-01,  3.0553e-01, -1.3187e-01,  1.2581e-03, -9.4051e-02,\n",
       "         -2.1398e-02,  1.7822e-01,  1.5949e-01],\n",
       "        [-1.4726e-02,  1.5931e-01,  1.7578e-01,  1.2344e-01,  1.3463e-01,\n",
       "         -9.4859e-02, -7.4158e-02,  1.4627e-01],\n",
       "        [ 2.7406e-01,  1.0560e-01,  1.0742e-01,  1.9136e-01, -1.1057e-01,\n",
       "         -6.8034e-02,  2.4759e-01,  5.6552e-03],\n",
       "        [ 2.7915e-01,  3.6576e-02,  4.1548e-03,  1.3270e-01,  2.6897e-01,\n",
       "          1.0929e-01,  7.0266e-02, -3.3154e-02],\n",
       "        [ 5.1515e-03, -2.1987e-02,  7.4448e-02,  6.2439e-02,  6.4536e-02,\n",
       "          4.0757e-02, -5.8443e-02,  1.3135e-04]], grad_fn=<ViewBackward0>)"
      ]
     },
     "execution_count": 10,
     "metadata": {},
     "output_type": "execute_result"
    }
   ],
   "execution_count": 10
  },
  {
   "metadata": {
    "ExecuteTime": {
     "end_time": "2025-09-13T02:21:13.305273Z",
     "start_time": "2025-09-13T02:21:13.262509Z"
    }
   },
   "cell_type": "code",
   "source": [
    "# 使用不用的宽度和高度的核大小\n",
    "conv2d = nn.Conv2d(1, 1, kernel_size=(5, 3), padding=(2, 1))\n",
    "comp_conv2d(conv2d, X).shape"
   ],
   "id": "b15f7d19bf7d7616",
   "outputs": [
    {
     "data": {
      "text/plain": [
       "torch.Size([8, 8])"
      ]
     },
     "execution_count": 12,
     "metadata": {},
     "output_type": "execute_result"
    }
   ],
   "execution_count": 12
  },
  {
   "metadata": {},
   "cell_type": "markdown",
   "source": "### 6.3.2 步幅",
   "id": "6b66765621f4d720"
  },
  {
   "metadata": {
    "ExecuteTime": {
     "end_time": "2025-09-13T02:43:43.214605Z",
     "start_time": "2025-09-13T02:43:43.201120Z"
    }
   },
   "cell_type": "code",
   "source": [
    "conv2d = nn.Conv2d(1, 1, kernel_size=3, padding=1, stride=2)\n",
    "comp_conv2d(conv2d, X)"
   ],
   "id": "955147e99147059",
   "outputs": [
    {
     "data": {
      "text/plain": [
       "tensor([[ 0.2897, -0.0893,  0.0335,  0.1313],\n",
       "        [ 0.1914, -0.0544,  0.3598, -0.1349],\n",
       "        [ 0.1681, -0.4348,  0.1028, -0.0795],\n",
       "        [ 0.1536, -0.1488, -0.0667,  0.2816]], grad_fn=<ViewBackward0>)"
      ]
     },
     "execution_count": 13,
     "metadata": {},
     "output_type": "execute_result"
    }
   ],
   "execution_count": 13
  },
  {
   "metadata": {
    "ExecuteTime": {
     "end_time": "2025-09-13T02:44:09.947901Z",
     "start_time": "2025-09-13T02:44:09.903748Z"
    }
   },
   "cell_type": "code",
   "source": [
    "conv2d = nn.Conv2d(1, 1, kernel_size=(3, 5), padding=(0, 1), stride=(3, 4))\n",
    "comp_conv2d(conv2d, X)"
   ],
   "id": "995f324de611aa73",
   "outputs": [
    {
     "data": {
      "text/plain": [
       "tensor([[0.2630, 0.2328],\n",
       "        [0.5454, 0.2436]], grad_fn=<ViewBackward0>)"
      ]
     },
     "execution_count": 14,
     "metadata": {},
     "output_type": "execute_result"
    }
   ],
   "execution_count": 14
  },
  {
   "metadata": {},
   "cell_type": "code",
   "outputs": [],
   "execution_count": null,
   "source": "",
   "id": "5ccb23e6b31d9d8d"
  }
 ],
 "metadata": {
  "kernelspec": {
   "display_name": "Python 3",
   "language": "python",
   "name": "python3"
  },
  "language_info": {
   "codemirror_mode": {
    "name": "ipython",
    "version": 2
   },
   "file_extension": ".py",
   "mimetype": "text/x-python",
   "name": "python",
   "nbconvert_exporter": "python",
   "pygments_lexer": "ipython2",
   "version": "2.7.6"
  }
 },
 "nbformat": 4,
 "nbformat_minor": 5
}
