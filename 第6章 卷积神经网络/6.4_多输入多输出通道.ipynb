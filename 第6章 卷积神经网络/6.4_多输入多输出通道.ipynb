{
 "cells": [
  {
   "metadata": {},
   "cell_type": "markdown",
   "source": "### 6.4.1 多输入通道",
   "id": "f35d7ec8ae413516"
  },
  {
   "cell_type": "code",
   "id": "initial_id",
   "metadata": {
    "collapsed": true,
    "ExecuteTime": {
     "end_time": "2025-09-13T02:50:38.237304Z",
     "start_time": "2025-09-13T02:50:35.221981Z"
    }
   },
   "source": [
    "import torch\n",
    "from d2l import torch as d2l"
   ],
   "outputs": [],
   "execution_count": 1
  },
  {
   "metadata": {
    "ExecuteTime": {
     "end_time": "2025-09-13T02:51:05.617998Z",
     "start_time": "2025-09-13T02:51:05.603498Z"
    }
   },
   "cell_type": "code",
   "source": [
    "def corr2d_multi_in(X, K):\n",
    "    return sum(d2l.corr2d(x, k) for x, k in zip(X, K))"
   ],
   "id": "81b7f3ed844fa698",
   "outputs": [],
   "execution_count": 2
  },
  {
   "metadata": {
    "ExecuteTime": {
     "end_time": "2025-09-13T02:53:55.020631Z",
     "start_time": "2025-09-13T02:53:54.976643Z"
    }
   },
   "cell_type": "code",
   "source": [
    "X = torch.tensor([\n",
    "    [\n",
    "        [0, 1, 2],\n",
    "        [3, 4, 5],\n",
    "        [6, 7, 8],\n",
    "    ],\n",
    "    [\n",
    "        [1, 2, 3],\n",
    "        [4, 5, 6],\n",
    "        [7, 8, 9],\n",
    "    ],\n",
    "], dtype=torch.float32)\n",
    "K = torch.tensor([\n",
    "    [\n",
    "        [0, 1],\n",
    "        [2, 3],\n",
    "    ],\n",
    "    [\n",
    "        [1, 2],\n",
    "        [3, 4],\n",
    "    ]\n",
    "], dtype=torch.float32)"
   ],
   "id": "899059e9fd3c3b58",
   "outputs": [],
   "execution_count": 3
  },
  {
   "metadata": {
    "ExecuteTime": {
     "end_time": "2025-09-13T02:54:02.751203Z",
     "start_time": "2025-09-13T02:54:02.729459Z"
    }
   },
   "cell_type": "code",
   "source": "corr2d_multi_in(X, K)",
   "id": "e316cf74a6cc62fa",
   "outputs": [
    {
     "data": {
      "text/plain": [
       "tensor([[ 56.,  72.],\n",
       "        [104., 120.]])"
      ]
     },
     "execution_count": 4,
     "metadata": {},
     "output_type": "execute_result"
    }
   ],
   "execution_count": 4
  },
  {
   "metadata": {},
   "cell_type": "markdown",
   "source": "### 6.4.2 多输出通道",
   "id": "fe72fa73a41256f0"
  },
  {
   "metadata": {
    "ExecuteTime": {
     "end_time": "2025-09-13T03:03:48.983594Z",
     "start_time": "2025-09-13T03:03:48.970588Z"
    }
   },
   "cell_type": "code",
   "source": [
    "def corr2d_multi_in_out(X, K):\n",
    "    return torch.stack([corr2d_multi_in(X, k) for k in K], 0)"
   ],
   "id": "55250220646b0852",
   "outputs": [],
   "execution_count": 5
  },
  {
   "metadata": {
    "ExecuteTime": {
     "end_time": "2025-09-13T03:04:14.865480Z",
     "start_time": "2025-09-13T03:04:14.821025Z"
    }
   },
   "cell_type": "code",
   "source": [
    "K = torch.stack((K, K + 1, K + 2))\n",
    "K.shape"
   ],
   "id": "bb48962a1fcf051a",
   "outputs": [
    {
     "data": {
      "text/plain": [
       "torch.Size([3, 2, 2, 2])"
      ]
     },
     "execution_count": 6,
     "metadata": {},
     "output_type": "execute_result"
    }
   ],
   "execution_count": 6
  },
  {
   "metadata": {
    "ExecuteTime": {
     "end_time": "2025-09-13T03:04:23.414678Z",
     "start_time": "2025-09-13T03:04:23.400744Z"
    }
   },
   "cell_type": "code",
   "source": "corr2d_multi_in_out(X, K)",
   "id": "86315b8865a5b97b",
   "outputs": [
    {
     "data": {
      "text/plain": [
       "tensor([[[ 56.,  72.],\n",
       "         [104., 120.]],\n",
       "\n",
       "        [[ 76., 100.],\n",
       "         [148., 172.]],\n",
       "\n",
       "        [[ 96., 128.],\n",
       "         [192., 224.]]])"
      ]
     },
     "execution_count": 7,
     "metadata": {},
     "output_type": "execute_result"
    }
   ],
   "execution_count": 7
  },
  {
   "metadata": {},
   "cell_type": "markdown",
   "source": "### 6.4.3 1×1卷积层",
   "id": "3f7b6a20edce28c8"
  },
  {
   "metadata": {
    "ExecuteTime": {
     "end_time": "2025-09-13T03:18:12.617720Z",
     "start_time": "2025-09-13T03:18:12.609629Z"
    }
   },
   "cell_type": "code",
   "source": [
    "def corr2d_multi_in_out_1x1(X, K):\n",
    "    c_i, h, w = X.shape\n",
    "    c_o = K.shape[0]\n",
    "    X = X.reshape((c_i, h * w))\n",
    "    K = K.reshape((c_o, c_i))\n",
    "\n",
    "    Y = torch.matmul(K, X)\n",
    "    return Y.reshape((c_o, h, w))"
   ],
   "id": "451296a2913a3177",
   "outputs": [],
   "execution_count": 8
  },
  {
   "metadata": {
    "ExecuteTime": {
     "end_time": "2025-09-13T03:18:47.071250Z",
     "start_time": "2025-09-13T03:18:47.026569Z"
    }
   },
   "cell_type": "code",
   "source": [
    "X = torch.normal(0, 1, (3, 3, 3))\n",
    "K = torch.normal(0, 1, (2, 3, 1, 1))"
   ],
   "id": "6417c8270406e5fa",
   "outputs": [],
   "execution_count": 9
  },
  {
   "metadata": {
    "ExecuteTime": {
     "end_time": "2025-09-13T03:19:00.486997Z",
     "start_time": "2025-09-13T03:19:00.441715Z"
    }
   },
   "cell_type": "code",
   "source": [
    "Y1 = corr2d_multi_in_out(X, K)\n",
    "Y2 = corr2d_multi_in_out_1x1(X, K)"
   ],
   "id": "a633071314422763",
   "outputs": [],
   "execution_count": 10
  },
  {
   "metadata": {
    "ExecuteTime": {
     "end_time": "2025-09-13T03:19:36.291455Z",
     "start_time": "2025-09-13T03:19:36.245837Z"
    }
   },
   "cell_type": "code",
   "source": "assert float(torch.abs(Y1 - Y2).sum()) < 1e-6",
   "id": "e0e7c3a858131f5e",
   "outputs": [],
   "execution_count": 11
  }
 ],
 "metadata": {
  "kernelspec": {
   "display_name": "Python 3",
   "language": "python",
   "name": "python3"
  },
  "language_info": {
   "codemirror_mode": {
    "name": "ipython",
    "version": 2
   },
   "file_extension": ".py",
   "mimetype": "text/x-python",
   "name": "python",
   "nbconvert_exporter": "python",
   "pygments_lexer": "ipython2",
   "version": "2.7.6"
  }
 },
 "nbformat": 4,
 "nbformat_minor": 5
}
