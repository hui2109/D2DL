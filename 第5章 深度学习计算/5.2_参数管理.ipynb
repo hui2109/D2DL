{
 "cells": [
  {
   "metadata": {},
   "cell_type": "markdown",
   "source": "### 引言",
   "id": "daa6aba19afa39cd"
  },
  {
   "cell_type": "code",
   "id": "initial_id",
   "metadata": {
    "collapsed": true,
    "ExecuteTime": {
     "end_time": "2025-09-09T11:02:40.758776Z",
     "start_time": "2025-09-09T11:02:39.612367Z"
    }
   },
   "source": [
    "import torch\n",
    "from torch import nn"
   ],
   "outputs": [],
   "execution_count": 1
  },
  {
   "metadata": {
    "ExecuteTime": {
     "end_time": "2025-09-09T11:03:24.387360Z",
     "start_time": "2025-09-09T11:03:24.372950Z"
    }
   },
   "cell_type": "code",
   "source": [
    "net = nn.Sequential(nn.Linear(4, 8), nn.ReLU(), nn.Linear(8, 1))\n",
    "X = torch.rand(size=[2, 4])"
   ],
   "id": "47930bc5d72c92b",
   "outputs": [],
   "execution_count": 2
  },
  {
   "metadata": {
    "ExecuteTime": {
     "end_time": "2025-09-09T11:03:27.575243Z",
     "start_time": "2025-09-09T11:03:27.530135Z"
    }
   },
   "cell_type": "code",
   "source": "net(X)",
   "id": "eb3a0feba9356237",
   "outputs": [
    {
     "data": {
      "text/plain": [
       "tensor([[-0.0555],\n",
       "        [-0.1251]], grad_fn=<AddmmBackward0>)"
      ]
     },
     "execution_count": 3,
     "metadata": {},
     "output_type": "execute_result"
    }
   ],
   "execution_count": 3
  },
  {
   "metadata": {},
   "cell_type": "markdown",
   "source": "### 5.2.1 参数访问",
   "id": "f7cf42960f41fdba"
  },
  {
   "metadata": {
    "ExecuteTime": {
     "end_time": "2025-09-09T11:05:05.868530Z",
     "start_time": "2025-09-09T11:05:05.853962Z"
    }
   },
   "cell_type": "code",
   "source": "net[2].state_dict()",
   "id": "49bb1e8e641bc883",
   "outputs": [
    {
     "data": {
      "text/plain": [
       "OrderedDict([('weight',\n",
       "              tensor([[-0.0924,  0.1858,  0.0620,  0.1767,  0.2851,  0.2124,  0.2702, -0.2105]])),\n",
       "             ('bias', tensor([-0.2046]))])"
      ]
     },
     "execution_count": 7,
     "metadata": {},
     "output_type": "execute_result"
    }
   ],
   "execution_count": 7
  },
  {
   "metadata": {
    "ExecuteTime": {
     "end_time": "2025-09-09T11:05:11.060001Z",
     "start_time": "2025-09-09T11:05:11.045994Z"
    }
   },
   "cell_type": "code",
   "source": "net[1].state_dict()",
   "id": "1a6c41dc9218f584",
   "outputs": [
    {
     "data": {
      "text/plain": [
       "OrderedDict()"
      ]
     },
     "execution_count": 8,
     "metadata": {},
     "output_type": "execute_result"
    }
   ],
   "execution_count": 8
  },
  {
   "metadata": {
    "ExecuteTime": {
     "end_time": "2025-09-09T11:15:37.862256Z",
     "start_time": "2025-09-09T11:15:37.853258Z"
    }
   },
   "cell_type": "code",
   "source": "net.state_dict()",
   "id": "df44671fb2d3fafb",
   "outputs": [
    {
     "data": {
      "text/plain": [
       "OrderedDict([('0.weight',\n",
       "              tensor([[ 0.4319, -0.2772, -0.3791,  0.3995],\n",
       "                      [ 0.3984, -0.4986,  0.1091,  0.4254],\n",
       "                      [-0.0505, -0.3083,  0.0405, -0.1974],\n",
       "                      [-0.3434,  0.4668, -0.0685,  0.2471],\n",
       "                      [ 0.1730,  0.4733, -0.0888, -0.3485],\n",
       "                      [-0.1124,  0.3707,  0.1142, -0.2572],\n",
       "                      [ 0.3586,  0.4052, -0.4735, -0.0536],\n",
       "                      [ 0.2905,  0.2718, -0.1157,  0.4460]])),\n",
       "             ('0.bias',\n",
       "              tensor([ 0.0674, -0.0938, -0.2005, -0.0995, -0.0564,  0.4143, -0.4239, -0.2433])),\n",
       "             ('2.weight',\n",
       "              tensor([[-0.0924,  0.1858,  0.0620,  0.1767,  0.2851,  0.2124,  0.2702, -0.2105]])),\n",
       "             ('2.bias', tensor([-0.2046]))])"
      ]
     },
     "execution_count": 18,
     "metadata": {},
     "output_type": "execute_result"
    }
   ],
   "execution_count": 18
  },
  {
   "metadata": {},
   "cell_type": "markdown",
   "source": "目标参数",
   "id": "41f1fb804d748559"
  },
  {
   "metadata": {
    "ExecuteTime": {
     "end_time": "2025-09-09T11:06:22.114937Z",
     "start_time": "2025-09-09T11:06:22.102127Z"
    }
   },
   "cell_type": "code",
   "source": "type(net[2].bias)",
   "id": "26b5b8f57247c863",
   "outputs": [
    {
     "data": {
      "text/plain": [
       "torch.nn.parameter.Parameter"
      ]
     },
     "execution_count": 9,
     "metadata": {},
     "output_type": "execute_result"
    }
   ],
   "execution_count": 9
  },
  {
   "metadata": {
    "ExecuteTime": {
     "end_time": "2025-09-09T11:06:41.120719Z",
     "start_time": "2025-09-09T11:06:41.106715Z"
    }
   },
   "cell_type": "code",
   "source": "net[2].bias",
   "id": "e4707448fc6f0816",
   "outputs": [
    {
     "data": {
      "text/plain": [
       "Parameter containing:\n",
       "tensor([-0.2046], requires_grad=True)"
      ]
     },
     "execution_count": 10,
     "metadata": {},
     "output_type": "execute_result"
    }
   ],
   "execution_count": 10
  },
  {
   "metadata": {
    "ExecuteTime": {
     "end_time": "2025-09-09T11:06:58.881563Z",
     "start_time": "2025-09-09T11:06:58.868055Z"
    }
   },
   "cell_type": "code",
   "source": "net[2].bias.data",
   "id": "d387eb9ab59e0aab",
   "outputs": [
    {
     "data": {
      "text/plain": [
       "tensor([-0.2046])"
      ]
     },
     "execution_count": 11,
     "metadata": {},
     "output_type": "execute_result"
    }
   ],
   "execution_count": 11
  },
  {
   "metadata": {
    "ExecuteTime": {
     "end_time": "2025-09-09T11:07:47.779317Z",
     "start_time": "2025-09-09T11:07:47.765807Z"
    }
   },
   "cell_type": "code",
   "source": "net[2].weight.grad is None",
   "id": "af3325ae56b35a85",
   "outputs": [
    {
     "data": {
      "text/plain": [
       "True"
      ]
     },
     "execution_count": 13,
     "metadata": {},
     "output_type": "execute_result"
    }
   ],
   "execution_count": 13
  },
  {
   "metadata": {},
   "cell_type": "markdown",
   "source": "一次性访问所有参数",
   "id": "5d0216ddee7de51c"
  },
  {
   "metadata": {
    "ExecuteTime": {
     "end_time": "2025-09-09T11:14:03.409604Z",
     "start_time": "2025-09-09T11:14:03.394540Z"
    }
   },
   "cell_type": "code",
   "source": [
    "print(*[(name, param.shape) for name, param in net[0].named_parameters()])\n",
    "print('=' * 40)\n",
    "print(*[(name, param.shape) for name, param in net.named_parameters()])"
   ],
   "id": "42194498ac820625",
   "outputs": [
    {
     "name": "stdout",
     "output_type": "stream",
     "text": [
      "('weight', torch.Size([8, 4])) ('bias', torch.Size([8]))\n",
      "========================================\n",
      "('0.weight', torch.Size([8, 4])) ('0.bias', torch.Size([8])) ('2.weight', torch.Size([1, 8])) ('2.bias', torch.Size([1]))\n"
     ]
    }
   ],
   "execution_count": 17
  },
  {
   "metadata": {
    "ExecuteTime": {
     "end_time": "2025-09-09T11:16:09.397807Z",
     "start_time": "2025-09-09T11:16:09.381726Z"
    }
   },
   "cell_type": "code",
   "source": "net.state_dict()['2.bias'].data",
   "id": "2e13b7e069fe3501",
   "outputs": [
    {
     "data": {
      "text/plain": [
       "tensor([-0.2046])"
      ]
     },
     "execution_count": 19,
     "metadata": {},
     "output_type": "execute_result"
    }
   ],
   "execution_count": 19
  },
  {
   "metadata": {},
   "cell_type": "markdown",
   "source": "从嵌套块收集参数",
   "id": "b46949491f54d15e"
  },
  {
   "metadata": {
    "ExecuteTime": {
     "end_time": "2025-09-09T11:19:23.023329Z",
     "start_time": "2025-09-09T11:19:23.009822Z"
    }
   },
   "cell_type": "code",
   "source": [
    "def block1():\n",
    "    return nn.Sequential(nn.Linear(4, 8), nn.ReLU(),\n",
    "                         nn.Linear(8, 4), nn.ReLU())\n",
    "\n",
    "\n",
    "def block2():\n",
    "    net = nn.Sequential()\n",
    "    for i in range(4):\n",
    "        # 在这里嵌套\n",
    "        net.add_module(f'block {i}', block1())\n",
    "    return net\n",
    "\n",
    "\n",
    "rgnet = nn.Sequential(block2(), nn.Linear(4, 1))\n",
    "rgnet(X)"
   ],
   "id": "2af862a17c118f16",
   "outputs": [
    {
     "data": {
      "text/plain": [
       "tensor([[0.2773],\n",
       "        [0.2773]], grad_fn=<AddmmBackward0>)"
      ]
     },
     "execution_count": 20,
     "metadata": {},
     "output_type": "execute_result"
    }
   ],
   "execution_count": 20
  },
  {
   "metadata": {
    "ExecuteTime": {
     "end_time": "2025-09-09T11:20:31.245104Z",
     "start_time": "2025-09-09T11:20:31.231101Z"
    }
   },
   "cell_type": "code",
   "source": "rgnet",
   "id": "636a7e8411dbdab4",
   "outputs": [
    {
     "data": {
      "text/plain": [
       "Sequential(\n",
       "  (0): Sequential(\n",
       "    (block 0): Sequential(\n",
       "      (0): Linear(in_features=4, out_features=8, bias=True)\n",
       "      (1): ReLU()\n",
       "      (2): Linear(in_features=8, out_features=4, bias=True)\n",
       "      (3): ReLU()\n",
       "    )\n",
       "    (block 1): Sequential(\n",
       "      (0): Linear(in_features=4, out_features=8, bias=True)\n",
       "      (1): ReLU()\n",
       "      (2): Linear(in_features=8, out_features=4, bias=True)\n",
       "      (3): ReLU()\n",
       "    )\n",
       "    (block 2): Sequential(\n",
       "      (0): Linear(in_features=4, out_features=8, bias=True)\n",
       "      (1): ReLU()\n",
       "      (2): Linear(in_features=8, out_features=4, bias=True)\n",
       "      (3): ReLU()\n",
       "    )\n",
       "    (block 3): Sequential(\n",
       "      (0): Linear(in_features=4, out_features=8, bias=True)\n",
       "      (1): ReLU()\n",
       "      (2): Linear(in_features=8, out_features=4, bias=True)\n",
       "      (3): ReLU()\n",
       "    )\n",
       "  )\n",
       "  (1): Linear(in_features=4, out_features=1, bias=True)\n",
       ")"
      ]
     },
     "execution_count": 21,
     "metadata": {},
     "output_type": "execute_result"
    }
   ],
   "execution_count": 21
  },
  {
   "metadata": {
    "ExecuteTime": {
     "end_time": "2025-09-09T11:22:43.368048Z",
     "start_time": "2025-09-09T11:22:43.354456Z"
    }
   },
   "cell_type": "code",
   "source": "rgnet[0][1][0].bias.data",
   "id": "7978600b02f59993",
   "outputs": [
    {
     "data": {
      "text/plain": [
       "tensor([-0.4890, -0.3511,  0.1636,  0.1827,  0.0656,  0.3588, -0.3530,  0.1390])"
      ]
     },
     "execution_count": 22,
     "metadata": {},
     "output_type": "execute_result"
    }
   ],
   "execution_count": 22
  },
  {
   "metadata": {},
   "cell_type": "markdown",
   "source": "### 5.2.2 参数初始化",
   "id": "557abcc1354f4605"
  },
  {
   "metadata": {
    "ExecuteTime": {
     "end_time": "2025-09-09T11:36:30.634073Z",
     "start_time": "2025-09-09T11:36:30.628066Z"
    }
   },
   "cell_type": "code",
   "source": "net",
   "id": "6a74f116209d8187",
   "outputs": [
    {
     "data": {
      "text/plain": [
       "Sequential(\n",
       "  (0): Linear(in_features=4, out_features=8, bias=True)\n",
       "  (1): ReLU()\n",
       "  (2): Linear(in_features=8, out_features=1, bias=True)\n",
       ")"
      ]
     },
     "execution_count": 30,
     "metadata": {},
     "output_type": "execute_result"
    }
   ],
   "execution_count": 30
  },
  {
   "metadata": {},
   "cell_type": "markdown",
   "source": "内置初始化",
   "id": "8b48b8e6fc1b8f7a"
  },
  {
   "metadata": {
    "ExecuteTime": {
     "end_time": "2025-09-09T11:32:09.037027Z",
     "start_time": "2025-09-09T11:32:09.031063Z"
    }
   },
   "cell_type": "code",
   "source": [
    "def init_normal(m):\n",
    "    if type(m) == nn.Linear:\n",
    "        nn.init.normal_(m.weight, mean=0, std=0.01)\n",
    "        nn.init.zeros_(m.bias)\n",
    "\n",
    "\n",
    "net.apply(init_normal)\n",
    "net[0].weight.data[0], net[0].bias.data[0]"
   ],
   "id": "4c55435c9c814f1c",
   "outputs": [
    {
     "data": {
      "text/plain": [
       "(tensor([ 0.0031,  0.0065,  0.0030, -0.0020]), tensor(0.))"
      ]
     },
     "execution_count": 26,
     "metadata": {},
     "output_type": "execute_result"
    }
   ],
   "execution_count": 26
  },
  {
   "metadata": {
    "ExecuteTime": {
     "end_time": "2025-09-09T11:33:16.378853Z",
     "start_time": "2025-09-09T11:33:16.334293Z"
    }
   },
   "cell_type": "code",
   "source": [
    "def init_constant(m):\n",
    "    if type(m) == nn.Linear:\n",
    "        nn.init.constant_(m.weight, 1)\n",
    "        nn.init.zeros_(m.bias)\n",
    "\n",
    "\n",
    "net.apply(init_constant)\n",
    "net[0].weight.data[0], net[0].bias.data[0]"
   ],
   "id": "bf4cfeaf0ef2df06",
   "outputs": [
    {
     "data": {
      "text/plain": [
       "(tensor([1., 1., 1., 1.]), tensor(0.))"
      ]
     },
     "execution_count": 27,
     "metadata": {},
     "output_type": "execute_result"
    }
   ],
   "execution_count": 27
  },
  {
   "metadata": {
    "ExecuteTime": {
     "end_time": "2025-09-09T11:36:19.497108Z",
     "start_time": "2025-09-09T11:36:19.458829Z"
    }
   },
   "cell_type": "code",
   "source": [
    "def init_xavier(m):\n",
    "    if type(m) == nn.Linear:\n",
    "        nn.init.xavier_uniform_(m.weight)\n",
    "\n",
    "\n",
    "def init_42(m):\n",
    "    if type(m) == nn.Linear:\n",
    "        nn.init.constant_(m.weight, 42)\n",
    "\n",
    "\n",
    "net[0].apply(init_xavier)\n",
    "net[2].apply(init_42)\n",
    "print(net[0].weight.data[0])\n",
    "print(net[2].weight.data)"
   ],
   "id": "d593bcdc6ba2a66e",
   "outputs": [
    {
     "name": "stdout",
     "output_type": "stream",
     "text": [
      "tensor([ 0.5760,  0.3098, -0.3278, -0.6494])\n",
      "tensor([[42., 42., 42., 42., 42., 42., 42., 42.]])\n"
     ]
    }
   ],
   "execution_count": 29
  },
  {
   "metadata": {},
   "cell_type": "markdown",
   "source": "自定义初始化",
   "id": "5b341e35b234e07c"
  },
  {
   "metadata": {
    "ExecuteTime": {
     "end_time": "2025-09-09T11:42:56.271427Z",
     "start_time": "2025-09-09T11:42:56.226345Z"
    }
   },
   "cell_type": "code",
   "source": [
    "def my_init(m):\n",
    "    if type(m) == nn.Linear:\n",
    "        print(\"Init\", *[[name, param.shape] for name, param in m.named_parameters()])\n",
    "\n",
    "        nn.init.uniform_(m.weight, -10, 10)\n",
    "        m.weight.data *= m.weight.data.abs() >= 5\n",
    "\n",
    "\n",
    "net.apply(my_init)\n",
    "net[0].weight[:2]"
   ],
   "id": "ce1cb4139a06cd91",
   "outputs": [
    {
     "name": "stdout",
     "output_type": "stream",
     "text": [
      "Init ['weight', torch.Size([8, 4])] ['bias', torch.Size([8])]\n",
      "Init ['weight', torch.Size([1, 8])] ['bias', torch.Size([1])]\n"
     ]
    },
    {
     "data": {
      "text/plain": [
       "tensor([[-0.0000, -9.9706, -5.8567, -0.0000],\n",
       "        [-0.0000, -0.0000, -0.0000,  5.5585]], grad_fn=<SliceBackward0>)"
      ]
     },
     "execution_count": 31,
     "metadata": {},
     "output_type": "execute_result"
    }
   ],
   "execution_count": 31
  },
  {
   "metadata": {},
   "cell_type": "markdown",
   "source": "注意: 我们始终可以直接设置参数",
   "id": "3b3746c5444ab71a"
  },
  {
   "metadata": {
    "ExecuteTime": {
     "end_time": "2025-09-09T11:46:02.447533Z",
     "start_time": "2025-09-09T11:46:02.402943Z"
    }
   },
   "cell_type": "code",
   "source": [
    "net[0].weight.data += 1\n",
    "net[0].weight.data[0, 0] = 42\n",
    "net[0].weight.data[0]"
   ],
   "id": "dbb9e1f82ad0b624",
   "outputs": [
    {
     "data": {
      "text/plain": [
       "tensor([42.0000, -8.9706, -4.8567,  1.0000])"
      ]
     },
     "execution_count": 32,
     "metadata": {},
     "output_type": "execute_result"
    }
   ],
   "execution_count": 32
  },
  {
   "metadata": {},
   "cell_type": "markdown",
   "source": "### 5.2.3 参数绑定",
   "id": "100cbfcdcc901aaa"
  },
  {
   "metadata": {
    "ExecuteTime": {
     "end_time": "2025-09-09T11:48:56.090864Z",
     "start_time": "2025-09-09T11:48:56.077106Z"
    }
   },
   "cell_type": "code",
   "source": [
    "shared = nn.Linear(8, 8)\n",
    "net = nn.Sequential(\n",
    "    nn.Linear(4, 8),\n",
    "    nn.ReLU(),\n",
    "    shared,\n",
    "    nn.ReLU(),\n",
    "    shared,\n",
    "    nn.ReLU(),\n",
    "    nn.Linear(8, 1)\n",
    ")\n",
    "\n",
    "net(X)"
   ],
   "id": "f3a081d7550ab2a9",
   "outputs": [
    {
     "data": {
      "text/plain": [
       "tensor([[-0.1761],\n",
       "        [-0.1658]], grad_fn=<AddmmBackward0>)"
      ]
     },
     "execution_count": 33,
     "metadata": {},
     "output_type": "execute_result"
    }
   ],
   "execution_count": 33
  },
  {
   "metadata": {
    "ExecuteTime": {
     "end_time": "2025-09-09T11:50:32.067357Z",
     "start_time": "2025-09-09T11:50:32.023355Z"
    }
   },
   "cell_type": "code",
   "source": [
    "# 检查参数是否相同\n",
    "print(net[2].weight.data[0] == net[4].weight.data[0])"
   ],
   "id": "ed6678af244ed1df",
   "outputs": [
    {
     "name": "stdout",
     "output_type": "stream",
     "text": [
      "tensor([True, True, True, True, True, True, True, True])\n"
     ]
    }
   ],
   "execution_count": 34
  },
  {
   "metadata": {
    "ExecuteTime": {
     "end_time": "2025-09-09T11:51:10.367926Z",
     "start_time": "2025-09-09T11:51:10.353924Z"
    }
   },
   "cell_type": "code",
   "source": [
    "# 确保它们实际上是同一个对象, 而不只是有相同的值\n",
    "net[2].weight.data[0, 0] = 100\n",
    "print(net[2].weight.data[0] == net[4].weight.data[0])"
   ],
   "id": "464d81c45e00531",
   "outputs": [
    {
     "name": "stdout",
     "output_type": "stream",
     "text": [
      "tensor([True, True, True, True, True, True, True, True])\n"
     ]
    }
   ],
   "execution_count": 35
  },
  {
   "metadata": {},
   "cell_type": "markdown",
   "source": [
    "共享参数通常可以节省内存，并在以下方面具有特定的好处：\n",
    "\n",
    "- 对于图像识别中的CNN，共享参数使网络能够在图像中的任何地方而不是仅在某个区域中查找给定的功能。\n",
    "- 对于RNN，它在序列的各个时间步之间共享参数，因此可以很好地推广到不同序列长度的示例。\n",
    "- 对于自动编码器，编码器和解码器共享参数。 在具有线性激活的单层自动编码器中，共享权重会在权重矩阵的不同隐藏层之间强制正交。"
   ],
   "id": "177722ed01a12988"
  },
  {
   "metadata": {},
   "cell_type": "code",
   "outputs": [],
   "execution_count": null,
   "source": "",
   "id": "dcde90ac4d1d7a6b"
  }
 ],
 "metadata": {
  "kernelspec": {
   "display_name": "Python 3",
   "language": "python",
   "name": "python3"
  },
  "language_info": {
   "codemirror_mode": {
    "name": "ipython",
    "version": 2
   },
   "file_extension": ".py",
   "mimetype": "text/x-python",
   "name": "python",
   "nbconvert_exporter": "python",
   "pygments_lexer": "ipython2",
   "version": "2.7.6"
  }
 },
 "nbformat": 4,
 "nbformat_minor": 5
}
