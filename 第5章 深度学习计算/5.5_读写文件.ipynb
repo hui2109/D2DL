{
 "cells": [
  {
   "metadata": {},
   "cell_type": "markdown",
   "source": "### 5.5.1 加载和保存张量",
   "id": "bd7321aa9913003b"
  },
  {
   "cell_type": "code",
   "id": "initial_id",
   "metadata": {
    "collapsed": true,
    "ExecuteTime": {
     "end_time": "2025-09-10T09:11:52.711471Z",
     "start_time": "2025-09-10T09:11:52.698962Z"
    }
   },
   "source": [
    "import torch\n",
    "from torch import nn\n",
    "import torch.nn.functional as F\n",
    "import pickle"
   ],
   "outputs": [],
   "execution_count": 16
  },
  {
   "metadata": {
    "ExecuteTime": {
     "end_time": "2025-09-10T08:52:40.364759Z",
     "start_time": "2025-09-10T08:52:40.319795Z"
    }
   },
   "cell_type": "code",
   "source": [
    "x = torch.arange(4)\n",
    "torch.save(x, 'x-file.pt')"
   ],
   "id": "805b3d34adc8329b",
   "outputs": [],
   "execution_count": 2
  },
  {
   "metadata": {
    "ExecuteTime": {
     "end_time": "2025-09-10T08:53:13.751202Z",
     "start_time": "2025-09-10T08:53:13.705411Z"
    }
   },
   "cell_type": "code",
   "source": [
    "x2 = torch.load('x-file.pt')\n",
    "x2"
   ],
   "id": "48570393794b1c2d",
   "outputs": [
    {
     "data": {
      "text/plain": [
       "tensor([0, 1, 2, 3])"
      ]
     },
     "execution_count": 3,
     "metadata": {},
     "output_type": "execute_result"
    }
   ],
   "execution_count": 3
  },
  {
   "metadata": {
    "ExecuteTime": {
     "end_time": "2025-09-10T08:53:51.386114Z",
     "start_time": "2025-09-10T08:53:51.340673Z"
    }
   },
   "cell_type": "code",
   "source": [
    "y = torch.ones(4)\n",
    "torch.save([x, y], 'x-files.pt')"
   ],
   "id": "f13c2ec0cab3300f",
   "outputs": [],
   "execution_count": 4
  },
  {
   "metadata": {
    "ExecuteTime": {
     "end_time": "2025-09-10T08:54:05.365723Z",
     "start_time": "2025-09-10T08:54:05.352718Z"
    }
   },
   "cell_type": "code",
   "source": [
    "x2, y2 = torch.load('x-files.pt')\n",
    "x2, y2"
   ],
   "id": "a825fad352e394a4",
   "outputs": [
    {
     "data": {
      "text/plain": [
       "(tensor([0, 1, 2, 3]), tensor([1., 1., 1., 1.]))"
      ]
     },
     "execution_count": 5,
     "metadata": {},
     "output_type": "execute_result"
    }
   ],
   "execution_count": 5
  },
  {
   "metadata": {
    "ExecuteTime": {
     "end_time": "2025-09-10T08:54:50.867881Z",
     "start_time": "2025-09-10T08:54:50.854884Z"
    }
   },
   "cell_type": "code",
   "source": [
    "# 储存字典\n",
    "mydict = {'x': x, 'y': y}\n",
    "torch.save(mydict, 'mydict.pt')\n",
    "mydict2 = torch.load('mydict.pt')\n",
    "mydict2"
   ],
   "id": "5788fa07f2d20c00",
   "outputs": [
    {
     "data": {
      "text/plain": [
       "{'x': tensor([0, 1, 2, 3]), 'y': tensor([1., 1., 1., 1.])}"
      ]
     },
     "execution_count": 6,
     "metadata": {},
     "output_type": "execute_result"
    }
   ],
   "execution_count": 6
  },
  {
   "metadata": {},
   "cell_type": "markdown",
   "source": "### 5.5.2 加载和保存模型参数",
   "id": "fae55436c055e036"
  },
  {
   "metadata": {
    "ExecuteTime": {
     "end_time": "2025-09-10T08:58:51.322407Z",
     "start_time": "2025-09-10T08:58:51.308406Z"
    }
   },
   "cell_type": "code",
   "source": [
    "class MLP(nn.Module):\n",
    "    def __init__(self):\n",
    "        super(MLP, self).__init__()\n",
    "\n",
    "        self.hidden = nn.Linear(20, 256)\n",
    "        self.output = nn.Linear(256, 10)\n",
    "\n",
    "    def forward(self, X):\n",
    "        return self.output(F.relu(self.hidden(X)))"
   ],
   "id": "33ada77c472688eb",
   "outputs": [],
   "execution_count": 7
  },
  {
   "metadata": {
    "ExecuteTime": {
     "end_time": "2025-09-10T08:59:45.467432Z",
     "start_time": "2025-09-10T08:59:45.422630Z"
    }
   },
   "cell_type": "code",
   "source": [
    "net = MLP()\n",
    "X = torch.randn([2, 20])\n",
    "Y = net(X)\n",
    "Y"
   ],
   "id": "3742d42937ce4101",
   "outputs": [
    {
     "data": {
      "text/plain": [
       "tensor([[ 0.0246,  0.2055,  0.4561,  0.4943, -0.1039,  0.2252,  0.2508, -0.0670,\n",
       "         -0.0480, -0.0041],\n",
       "        [-0.3388,  0.3189,  0.1527,  0.1285,  0.0395,  0.0009, -0.2403,  0.0364,\n",
       "          0.1045,  0.0680]], grad_fn=<AddmmBackward0>)"
      ]
     },
     "execution_count": 8,
     "metadata": {},
     "output_type": "execute_result"
    }
   ],
   "execution_count": 8
  },
  {
   "metadata": {
    "ExecuteTime": {
     "end_time": "2025-09-10T09:00:14.104534Z",
     "start_time": "2025-09-10T09:00:14.058745Z"
    }
   },
   "cell_type": "code",
   "source": "net.state_dict()",
   "id": "eb27a5123dfa1dd0",
   "outputs": [
    {
     "data": {
      "text/plain": [
       "OrderedDict([('hidden.weight',\n",
       "              tensor([[-0.1087,  0.0611, -0.1629,  ..., -0.0890, -0.1250,  0.2162],\n",
       "                      [-0.1398, -0.0496,  0.0617,  ..., -0.1261,  0.1980, -0.0895],\n",
       "                      [ 0.1653,  0.0010, -0.1993,  ...,  0.0678, -0.1570, -0.1437],\n",
       "                      ...,\n",
       "                      [ 0.1112,  0.1948,  0.1347,  ...,  0.0336,  0.1267,  0.1227],\n",
       "                      [-0.1513, -0.1396,  0.1959,  ..., -0.0256, -0.1519,  0.0316],\n",
       "                      [ 0.0324,  0.0143, -0.2199,  ...,  0.1883,  0.0927,  0.1292]])),\n",
       "             ('hidden.bias',\n",
       "              tensor([-0.0298, -0.2010, -0.0221,  0.1176, -0.0164,  0.2230, -0.0300,  0.2018,\n",
       "                       0.0396, -0.1574, -0.1912,  0.0481, -0.0184,  0.1260, -0.1275, -0.1494,\n",
       "                      -0.1986,  0.0195,  0.1534,  0.1951,  0.1344, -0.1077, -0.2176, -0.0058,\n",
       "                      -0.2003, -0.0769,  0.1959,  0.2204, -0.1683,  0.0040,  0.1201,  0.0366,\n",
       "                      -0.2157, -0.0341,  0.1394, -0.1436,  0.0182,  0.1164, -0.1303,  0.1725,\n",
       "                      -0.1811, -0.0818,  0.0119,  0.1094, -0.1640,  0.1902,  0.2076,  0.1833,\n",
       "                       0.1698, -0.1503,  0.2198,  0.1195, -0.0638, -0.1954,  0.1439, -0.0622,\n",
       "                      -0.2205,  0.1380, -0.0489,  0.1527,  0.0269, -0.1893,  0.1876,  0.0780,\n",
       "                       0.0534, -0.0101,  0.0798, -0.1135,  0.1686,  0.0251, -0.0621,  0.1119,\n",
       "                      -0.0506,  0.1495,  0.1809, -0.0298,  0.0227, -0.1436, -0.0629,  0.1156,\n",
       "                      -0.1032, -0.0275, -0.0402, -0.0148, -0.1363,  0.2130, -0.0046,  0.0676,\n",
       "                      -0.1511,  0.0243,  0.1273,  0.0469,  0.0207, -0.1713,  0.2221, -0.0917,\n",
       "                      -0.1847, -0.0430,  0.1366,  0.0712, -0.0439, -0.1854,  0.1684,  0.0847,\n",
       "                       0.1611,  0.1775, -0.0660, -0.0439, -0.1993, -0.0007, -0.0896,  0.0375,\n",
       "                      -0.1596, -0.0176, -0.1308, -0.0517, -0.1985,  0.0289, -0.1000, -0.0691,\n",
       "                       0.2171,  0.0035,  0.0907, -0.1275, -0.0597, -0.1563,  0.2233, -0.1286,\n",
       "                       0.0922, -0.1244,  0.1391,  0.0352,  0.1176,  0.0020,  0.2205,  0.0796,\n",
       "                       0.0458,  0.0052, -0.0570,  0.0033,  0.1481,  0.1684, -0.0198, -0.0394,\n",
       "                      -0.1830,  0.0105, -0.1960, -0.2063, -0.0898,  0.0711, -0.1907,  0.0902,\n",
       "                      -0.0828,  0.1291,  0.0153, -0.1221,  0.2020, -0.0735, -0.1308,  0.2018,\n",
       "                      -0.0339,  0.0162, -0.1389,  0.0328,  0.1327, -0.1335, -0.2152, -0.1013,\n",
       "                      -0.0652, -0.1906, -0.0201,  0.1037, -0.0678,  0.0705,  0.1511,  0.0986,\n",
       "                       0.1040, -0.1150, -0.0353, -0.0533, -0.1021, -0.1861, -0.0704,  0.1504,\n",
       "                       0.1493, -0.2077,  0.1055, -0.0285,  0.1141, -0.1472,  0.0667, -0.1633,\n",
       "                       0.1829, -0.1698,  0.0005, -0.0137, -0.1567,  0.1194,  0.0475, -0.0495,\n",
       "                      -0.1222,  0.1421, -0.0534, -0.0454, -0.2056,  0.0669,  0.1244,  0.0267,\n",
       "                      -0.0457, -0.0769,  0.1338,  0.0533, -0.0476,  0.0215,  0.0545,  0.0481,\n",
       "                      -0.1471,  0.1012,  0.0581, -0.1236,  0.1456,  0.1372, -0.0216, -0.1627,\n",
       "                      -0.0585,  0.0978,  0.1306,  0.1756,  0.1203, -0.1192,  0.2109,  0.0810,\n",
       "                      -0.2048,  0.0470, -0.0136,  0.1247, -0.1570,  0.0305, -0.2145,  0.0936,\n",
       "                      -0.0266,  0.1020,  0.1211, -0.0203,  0.0535,  0.1703, -0.1437,  0.0790,\n",
       "                      -0.1969,  0.1759,  0.2162, -0.2096, -0.1646,  0.1487,  0.0002,  0.1053])),\n",
       "             ('output.weight',\n",
       "              tensor([[ 0.0489, -0.0314,  0.0013,  ...,  0.0209,  0.0327,  0.0163],\n",
       "                      [-0.0388, -0.0358,  0.0441,  ...,  0.0045, -0.0271,  0.0342],\n",
       "                      [ 0.0408, -0.0053,  0.0267,  ...,  0.0314,  0.0159, -0.0232],\n",
       "                      ...,\n",
       "                      [ 0.0205,  0.0432, -0.0326,  ...,  0.0016,  0.0607,  0.0110],\n",
       "                      [-0.0008,  0.0475, -0.0382,  ..., -0.0053,  0.0499, -0.0030],\n",
       "                      [-0.0533, -0.0316,  0.0272,  ...,  0.0405, -0.0018,  0.0135]])),\n",
       "             ('output.bias',\n",
       "              tensor([ 0.0096,  0.0331, -0.0536,  0.0594,  0.0293,  0.0199,  0.0486,  0.0330,\n",
       "                       0.0419, -0.0501]))])"
      ]
     },
     "execution_count": 9,
     "metadata": {},
     "output_type": "execute_result"
    }
   ],
   "execution_count": 9
  },
  {
   "metadata": {
    "ExecuteTime": {
     "end_time": "2025-09-10T09:01:13.427813Z",
     "start_time": "2025-09-10T09:01:13.414109Z"
    }
   },
   "cell_type": "code",
   "source": "torch.save(net.state_dict(), 'mlp.params.pt')",
   "id": "85e214c13e6aefce",
   "outputs": [],
   "execution_count": 10
  },
  {
   "metadata": {
    "ExecuteTime": {
     "end_time": "2025-09-10T09:03:57.431529Z",
     "start_time": "2025-09-10T09:03:57.394152Z"
    }
   },
   "cell_type": "code",
   "source": [
    "# 恢复模型参数\n",
    "clone = MLP()\n",
    "clone.load_state_dict(torch.load('mlp.params.pt'))\n",
    "clone.eval()  # 关闭梯度计算和优化参数，只调用forward; 设置为评估模式，保持参数不变，不会更新参数"
   ],
   "id": "ce87cb872965de7",
   "outputs": [
    {
     "data": {
      "text/plain": [
       "MLP(\n",
       "  (hidden): Linear(in_features=20, out_features=256, bias=True)\n",
       "  (output): Linear(in_features=256, out_features=10, bias=True)\n",
       ")"
      ]
     },
     "execution_count": 12,
     "metadata": {},
     "output_type": "execute_result"
    }
   ],
   "execution_count": 12
  },
  {
   "metadata": {
    "ExecuteTime": {
     "end_time": "2025-09-10T09:06:22.124028Z",
     "start_time": "2025-09-10T09:06:22.110029Z"
    }
   },
   "cell_type": "code",
   "source": [
    "Y_clone = clone(X)\n",
    "(Y_clone != Y).sum()"
   ],
   "id": "62f564705723e642",
   "outputs": [
    {
     "data": {
      "text/plain": [
       "tensor(0)"
      ]
     },
     "execution_count": 15,
     "metadata": {},
     "output_type": "execute_result"
    }
   ],
   "execution_count": 15
  },
  {
   "metadata": {},
   "cell_type": "code",
   "outputs": [],
   "execution_count": null,
   "source": "",
   "id": "ccbf0af3b243061d"
  }
 ],
 "metadata": {
  "kernelspec": {
   "display_name": "Python 3",
   "language": "python",
   "name": "python3"
  },
  "language_info": {
   "codemirror_mode": {
    "name": "ipython",
    "version": 2
   },
   "file_extension": ".py",
   "mimetype": "text/x-python",
   "name": "python",
   "nbconvert_exporter": "python",
   "pygments_lexer": "ipython2",
   "version": "2.7.6"
  }
 },
 "nbformat": 4,
 "nbformat_minor": 5
}
