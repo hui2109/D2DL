{
 "cells": [
  {
   "metadata": {},
   "cell_type": "markdown",
   "source": "### 5.6.1 计算设备",
   "id": "8133f84dce844739"
  },
  {
   "cell_type": "code",
   "id": "initial_id",
   "metadata": {
    "collapsed": true,
    "ExecuteTime": {
     "end_time": "2025-09-10T10:18:06.030508Z",
     "start_time": "2025-09-10T10:18:06.022742Z"
    }
   },
   "source": [
    "import torch\n",
    "from torch import nn\n",
    "import time"
   ],
   "outputs": [],
   "execution_count": 28
  },
  {
   "metadata": {
    "ExecuteTime": {
     "end_time": "2025-09-10T09:57:55.587777Z",
     "start_time": "2025-09-10T09:57:55.569752Z"
    }
   },
   "cell_type": "code",
   "source": "torch.device('cpu'), torch.device('cuda'), torch.device('cuda:1')",
   "id": "3dc6b532b7bc6bf",
   "outputs": [
    {
     "data": {
      "text/plain": [
       "(device(type='cpu'), device(type='cuda'), device(type='cuda', index=1))"
      ]
     },
     "execution_count": 3,
     "metadata": {},
     "output_type": "execute_result"
    }
   ],
   "execution_count": 3
  },
  {
   "metadata": {
    "ExecuteTime": {
     "end_time": "2025-09-10T09:58:30.711466Z",
     "start_time": "2025-09-10T09:58:30.621368Z"
    }
   },
   "cell_type": "code",
   "source": [
    "# 查询可用GPU的数量\n",
    "torch.cuda.device_count()"
   ],
   "id": "af1027eb4cd643ee",
   "outputs": [
    {
     "data": {
      "text/plain": [
       "1"
      ]
     },
     "execution_count": 4,
     "metadata": {},
     "output_type": "execute_result"
    }
   ],
   "execution_count": 4
  },
  {
   "metadata": {
    "ExecuteTime": {
     "end_time": "2025-09-10T10:00:29.239754Z",
     "start_time": "2025-09-10T10:00:29.221601Z"
    }
   },
   "cell_type": "code",
   "source": [
    "def try_gpu(i=0):  #@save\n",
    "    \"\"\"如果存在，则返回gpu(i)，否则返回cpu()\"\"\"\n",
    "    if torch.cuda.device_count() >= i + 1:\n",
    "        return torch.device(f'cuda:{i}')\n",
    "    return torch.device('cpu')\n",
    "\n",
    "\n",
    "def try_all_gpus():  #@save\n",
    "    \"\"\"返回所有可用的GPU，如果没有GPU，则返回[cpu(),]\"\"\"\n",
    "    devices = [torch.device(f'cuda:{i}')\n",
    "               for i in range(torch.cuda.device_count())]\n",
    "    return devices if devices else [torch.device('cpu')]"
   ],
   "id": "8a28d313bdf94c36",
   "outputs": [],
   "execution_count": 6
  },
  {
   "metadata": {
    "ExecuteTime": {
     "end_time": "2025-09-10T10:00:30.805472Z",
     "start_time": "2025-09-10T10:00:30.791098Z"
    }
   },
   "cell_type": "code",
   "source": "try_gpu(), try_gpu(10), try_all_gpus()",
   "id": "3279c1f2b7c85284",
   "outputs": [
    {
     "data": {
      "text/plain": [
       "(device(type='cuda', index=0),\n",
       " device(type='cpu'),\n",
       " [device(type='cuda', index=0)])"
      ]
     },
     "execution_count": 7,
     "metadata": {},
     "output_type": "execute_result"
    }
   ],
   "execution_count": 7
  },
  {
   "metadata": {},
   "cell_type": "markdown",
   "source": "### 5.6.2 张量与GPU",
   "id": "ece4761e00489fd9"
  },
  {
   "metadata": {
    "ExecuteTime": {
     "end_time": "2025-09-10T10:01:46.939901Z",
     "start_time": "2025-09-10T10:01:46.895003Z"
    }
   },
   "cell_type": "code",
   "source": [
    "x = torch.tensor([1, 2, 3])\n",
    "x.device"
   ],
   "id": "285b478328a3de6b",
   "outputs": [
    {
     "data": {
      "text/plain": [
       "device(type='cpu')"
      ]
     },
     "execution_count": 8,
     "metadata": {},
     "output_type": "execute_result"
    }
   ],
   "execution_count": 8
  },
  {
   "metadata": {
    "ExecuteTime": {
     "end_time": "2025-09-10T10:04:16.733451Z",
     "start_time": "2025-09-10T10:04:16.717452Z"
    }
   },
   "cell_type": "code",
   "source": [
    "X = torch.ones([2, 3], device=try_gpu())\n",
    "X, X.device"
   ],
   "id": "c2a46b0b9fd2dc7e",
   "outputs": [
    {
     "data": {
      "text/plain": [
       "(tensor([[1., 1., 1.],\n",
       "         [1., 1., 1.]], device='cuda:0'),\n",
       " device(type='cuda', index=0))"
      ]
     },
     "execution_count": 10,
     "metadata": {},
     "output_type": "execute_result"
    }
   ],
   "execution_count": 10
  },
  {
   "metadata": {
    "ExecuteTime": {
     "end_time": "2025-09-10T10:06:02.445167Z",
     "start_time": "2025-09-10T10:06:02.431742Z"
    }
   },
   "cell_type": "code",
   "source": "Z = X.cuda(try_gpu())",
   "id": "1f525b94631fc74b",
   "outputs": [],
   "execution_count": 11
  },
  {
   "metadata": {
    "ExecuteTime": {
     "end_time": "2025-09-10T10:06:13.514522Z",
     "start_time": "2025-09-10T10:06:13.499757Z"
    }
   },
   "cell_type": "code",
   "source": "Z is X",
   "id": "8c6ed0a1ba281224",
   "outputs": [
    {
     "data": {
      "text/plain": [
       "True"
      ]
     },
     "execution_count": 12,
     "metadata": {},
     "output_type": "execute_result"
    }
   ],
   "execution_count": 12
  },
  {
   "metadata": {
    "ExecuteTime": {
     "end_time": "2025-09-10T10:06:31.929104Z",
     "start_time": "2025-09-10T10:06:31.917524Z"
    }
   },
   "cell_type": "code",
   "source": "id(Z), id(X)",
   "id": "160a15bced99d3a8",
   "outputs": [
    {
     "data": {
      "text/plain": [
       "(2209615099920, 2209615099920)"
      ]
     },
     "execution_count": 14,
     "metadata": {},
     "output_type": "execute_result"
    }
   ],
   "execution_count": 14
  },
  {
   "metadata": {},
   "cell_type": "markdown",
   "source": "### 5.6.3 神经网络与GPU",
   "id": "6cbe75530a372d80"
  },
  {
   "metadata": {
    "ExecuteTime": {
     "end_time": "2025-09-10T10:10:56.130915Z",
     "start_time": "2025-09-10T10:10:56.085896Z"
    }
   },
   "cell_type": "code",
   "source": [
    "net = nn.Sequential(nn.Linear(3, 1))\n",
    "net = net.to(device=try_gpu())"
   ],
   "id": "ca44e11ae4cbe163",
   "outputs": [],
   "execution_count": 15
  },
  {
   "metadata": {
    "ExecuteTime": {
     "end_time": "2025-09-10T10:11:09.121515Z",
     "start_time": "2025-09-10T10:11:09.072349Z"
    }
   },
   "cell_type": "code",
   "source": "net[0].weight",
   "id": "8c4f30e6042dae59",
   "outputs": [
    {
     "data": {
      "text/plain": [
       "Parameter containing:\n",
       "tensor([[-0.4092, -0.0080,  0.0500]], device='cuda:0', requires_grad=True)"
      ]
     },
     "execution_count": 18,
     "metadata": {},
     "output_type": "execute_result"
    }
   ],
   "execution_count": 18
  },
  {
   "metadata": {
    "ExecuteTime": {
     "end_time": "2025-09-10T10:11:21.393553Z",
     "start_time": "2025-09-10T10:11:21.373044Z"
    }
   },
   "cell_type": "code",
   "source": "net(X),",
   "id": "bc5c21bfc11f9f72",
   "outputs": [
    {
     "data": {
      "text/plain": [
       "(tensor([[-0.6457],\n",
       "         [-0.6457]], device='cuda:0', grad_fn=<AddmmBackward0>),)"
      ]
     },
     "execution_count": 20,
     "metadata": {},
     "output_type": "execute_result"
    }
   ],
   "execution_count": 20
  },
  {
   "metadata": {
    "ExecuteTime": {
     "end_time": "2025-09-10T10:11:38.775910Z",
     "start_time": "2025-09-10T10:11:38.761967Z"
    }
   },
   "cell_type": "code",
   "source": "net[0].weight.data.device",
   "id": "8cac7b95dd761e7",
   "outputs": [
    {
     "data": {
      "text/plain": [
       "device(type='cuda', index=0)"
      ]
     },
     "execution_count": 21,
     "metadata": {},
     "output_type": "execute_result"
    }
   ],
   "execution_count": 21
  },
  {
   "metadata": {},
   "cell_type": "markdown",
   "source": "### 练习1: 大矩阵乘法: CPU VS GPU",
   "id": "1c9b49f7c48ccc0a"
  },
  {
   "metadata": {
    "ExecuteTime": {
     "end_time": "2025-09-10T10:16:40.798193Z",
     "start_time": "2025-09-10T10:16:40.113322Z"
    }
   },
   "cell_type": "code",
   "source": [
    "M1 = torch.rand([10000, 10000], device='cpu')\n",
    "N1 = torch.rand([10000, 10000], device='cpu')"
   ],
   "id": "76f1ef095bacc77e",
   "outputs": [],
   "execution_count": 22
  },
  {
   "metadata": {
    "ExecuteTime": {
     "end_time": "2025-09-10T10:17:01.183901Z",
     "start_time": "2025-09-10T10:17:01.077557Z"
    }
   },
   "cell_type": "code",
   "source": [
    "M2 = torch.rand([10000, 10000], device=try_gpu())\n",
    "N2 = torch.rand([10000, 10000], device=try_gpu())"
   ],
   "id": "482027da30047652",
   "outputs": [],
   "execution_count": 23
  },
  {
   "metadata": {
    "ExecuteTime": {
     "end_time": "2025-09-10T10:20:04.244106Z",
     "start_time": "2025-09-10T10:20:02.510842Z"
    }
   },
   "cell_type": "code",
   "source": [
    "startT1 = time.time()\n",
    "O1 = M1 @ N1\n",
    "endT1 = time.time()\n",
    "print(endT1 - startT1)"
   ],
   "id": "46ecb3f4e6b949b1",
   "outputs": [
    {
     "name": "stdout",
     "output_type": "stream",
     "text": [
      "1.716261863708496\n"
     ]
    }
   ],
   "execution_count": 32
  },
  {
   "metadata": {
    "ExecuteTime": {
     "end_time": "2025-09-10T10:20:07.529162Z",
     "start_time": "2025-09-10T10:20:07.442818Z"
    }
   },
   "cell_type": "code",
   "source": [
    "startT2 = time.time()\n",
    "O2 = M2 @ N2\n",
    "endT2 = time.time()\n",
    "print(endT2 - startT2)"
   ],
   "id": "400bab4744db72b6",
   "outputs": [
    {
     "name": "stdout",
     "output_type": "stream",
     "text": [
      "0.07734274864196777\n"
     ]
    }
   ],
   "execution_count": 33
  },
  {
   "metadata": {
    "ExecuteTime": {
     "end_time": "2025-09-10T10:20:34.290265Z",
     "start_time": "2025-09-10T10:20:34.277204Z"
    }
   },
   "cell_type": "code",
   "source": "(endT1 - startT1) / (endT2 - startT2)",
   "id": "422d5aa2b929051",
   "outputs": [
    {
     "data": {
      "text/plain": [
       "22.190339674289994"
      ]
     },
     "execution_count": 34,
     "metadata": {},
     "output_type": "execute_result"
    }
   ],
   "execution_count": 34
  },
  {
   "metadata": {
    "ExecuteTime": {
     "end_time": "2025-09-10T10:21:19.087438Z",
     "start_time": "2025-09-10T10:21:19.074636Z"
    }
   },
   "cell_type": "code",
   "source": "O2.device",
   "id": "a7961c903ada6c56",
   "outputs": [
    {
     "data": {
      "text/plain": [
       "device(type='cuda', index=0)"
      ]
     },
     "execution_count": 35,
     "metadata": {},
     "output_type": "execute_result"
    }
   ],
   "execution_count": 35
  },
  {
   "metadata": {},
   "cell_type": "markdown",
   "source": "### 练习2: 如何在GPU上读写模型参数?",
   "id": "1503d4f01a8f11d2"
  },
  {
   "metadata": {
    "ExecuteTime": {
     "end_time": "2025-09-10T10:23:33.566629Z",
     "start_time": "2025-09-10T10:23:33.554630Z"
    }
   },
   "cell_type": "code",
   "source": "K = torch.tensor([1, 2, 3, 4, 5], device=try_gpu())",
   "id": "4c46c0eff6eff197",
   "outputs": [],
   "execution_count": 36
  },
  {
   "metadata": {
    "ExecuteTime": {
     "end_time": "2025-09-10T10:23:38.536263Z",
     "start_time": "2025-09-10T10:23:38.525662Z"
    }
   },
   "cell_type": "code",
   "source": "K,",
   "id": "4f6db843d5ca5d47",
   "outputs": [
    {
     "data": {
      "text/plain": [
       "(tensor([1, 2, 3, 4, 5], device='cuda:0'),)"
      ]
     },
     "execution_count": 38,
     "metadata": {},
     "output_type": "execute_result"
    }
   ],
   "execution_count": 38
  },
  {
   "metadata": {
    "ExecuteTime": {
     "end_time": "2025-09-10T10:24:12.152735Z",
     "start_time": "2025-09-10T10:24:12.107859Z"
    }
   },
   "cell_type": "code",
   "source": "torch.save(K, 'k-file-gpu.pt')",
   "id": "912c68998cd4b97",
   "outputs": [],
   "execution_count": 39
  },
  {
   "metadata": {
    "ExecuteTime": {
     "end_time": "2025-09-10T10:24:42.304795Z",
     "start_time": "2025-09-10T10:24:42.291794Z"
    }
   },
   "cell_type": "code",
   "source": [
    "L = torch.load('k-file-gpu.pt')\n",
    "L,"
   ],
   "id": "6a1418e0bb1c414c",
   "outputs": [
    {
     "data": {
      "text/plain": [
       "(tensor([1, 2, 3, 4, 5], device='cuda:0'),)"
      ]
     },
     "execution_count": 40,
     "metadata": {},
     "output_type": "execute_result"
    }
   ],
   "execution_count": 40
  },
  {
   "metadata": {},
   "cell_type": "code",
   "outputs": [],
   "execution_count": null,
   "source": "",
   "id": "27e3cb8d4cff8f30"
  }
 ],
 "metadata": {
  "kernelspec": {
   "display_name": "Python 3",
   "language": "python",
   "name": "python3"
  },
  "language_info": {
   "codemirror_mode": {
    "name": "ipython",
    "version": 2
   },
   "file_extension": ".py",
   "mimetype": "text/x-python",
   "name": "python",
   "nbconvert_exporter": "python",
   "pygments_lexer": "ipython2",
   "version": "2.7.6"
  }
 },
 "nbformat": 4,
 "nbformat_minor": 5
}
