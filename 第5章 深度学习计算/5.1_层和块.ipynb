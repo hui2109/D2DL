{
 "cells": [
  {
   "metadata": {},
   "cell_type": "markdown",
   "source": "### 引言",
   "id": "93facd527a87e79"
  },
  {
   "cell_type": "code",
   "id": "initial_id",
   "metadata": {
    "collapsed": true,
    "ExecuteTime": {
     "end_time": "2025-09-09T09:00:41.701537Z",
     "start_time": "2025-09-09T09:00:38.754327Z"
    }
   },
   "source": [
    "import torch\n",
    "from torch import nn\n",
    "from torch.nn import functional as F"
   ],
   "outputs": [],
   "execution_count": 1
  },
  {
   "metadata": {
    "ExecuteTime": {
     "end_time": "2025-09-09T09:11:14.755206Z",
     "start_time": "2025-09-09T09:11:14.737676Z"
    }
   },
   "cell_type": "code",
   "source": [
    "net = nn.Sequential(nn.Linear(20, 256), nn.ReLU(), nn.Linear(256, 10))\n",
    "\n",
    "X = torch.rand([2, 20])\n",
    "net(X)"
   ],
   "id": "b7778a73358d72f3",
   "outputs": [
    {
     "data": {
      "text/plain": [
       "tensor([[ 0.0857,  0.2138, -0.2470,  0.0100, -0.2079, -0.3314,  0.0655, -0.1274,\n",
       "         -0.0880, -0.0825],\n",
       "        [ 0.0036,  0.4161, -0.1498, -0.0766, -0.3779, -0.3463,  0.1470, -0.0300,\n",
       "         -0.0629, -0.0663]], grad_fn=<AddmmBackward0>)"
      ]
     },
     "execution_count": 6,
     "metadata": {},
     "output_type": "execute_result"
    }
   ],
   "execution_count": 6
  },
  {
   "metadata": {
    "ExecuteTime": {
     "end_time": "2025-09-09T09:02:37.959526Z",
     "start_time": "2025-09-09T09:02:37.946073Z"
    }
   },
   "cell_type": "markdown",
   "source": "### 5.1.1 自定义块",
   "id": "e2a2a2b1edc8cdf5"
  },
  {
   "metadata": {
    "ExecuteTime": {
     "end_time": "2025-09-09T09:08:17.712607Z",
     "start_time": "2025-09-09T09:08:17.699604Z"
    }
   },
   "cell_type": "code",
   "source": [
    "class MLP(nn.Module):\n",
    "    def __init__(self):\n",
    "        super().__init__()\n",
    "\n",
    "        self.hidden = nn.Linear(20, 256)  # 隐藏层\n",
    "        self.output = nn.Linear(256, 10)  # 输出层\n",
    "\n",
    "    def forward(self, X):\n",
    "        return self.output(F.relu(self.hidden(X)))"
   ],
   "id": "612ae3fddc065d48",
   "outputs": [],
   "execution_count": 4
  },
  {
   "metadata": {
    "ExecuteTime": {
     "end_time": "2025-09-09T09:11:29.235698Z",
     "start_time": "2025-09-09T09:11:29.220700Z"
    }
   },
   "cell_type": "code",
   "source": [
    "net = MLP()\n",
    "net(X)"
   ],
   "id": "94e7676acbdff7b3",
   "outputs": [
    {
     "data": {
      "text/plain": [
       "tensor([[ 0.0705, -0.0159,  0.1194,  0.0948, -0.0037,  0.1555, -0.0764,  0.1016,\n",
       "          0.2273,  0.0761],\n",
       "        [ 0.0681, -0.0539,  0.1736,  0.1189,  0.0714,  0.0718, -0.1393,  0.1422,\n",
       "          0.2123,  0.0449]], grad_fn=<AddmmBackward0>)"
      ]
     },
     "execution_count": 12,
     "metadata": {},
     "output_type": "execute_result"
    }
   ],
   "execution_count": 12
  },
  {
   "metadata": {},
   "cell_type": "markdown",
   "source": "### 5.1.2 顺序块",
   "id": "52e5bad4c519c4ee"
  },
  {
   "metadata": {
    "ExecuteTime": {
     "end_time": "2025-09-09T09:17:02.869129Z",
     "start_time": "2025-09-09T09:17:02.855685Z"
    }
   },
   "cell_type": "code",
   "source": [
    "class MySequential(nn.Module):\n",
    "    def __init__(self, *args):\n",
    "        super().__init__()\n",
    "\n",
    "        for idx, module in enumerate(args):\n",
    "            self._modules[str(idx)] = module\n",
    "\n",
    "    def forward(self, X):\n",
    "        for block in self._modules.values():\n",
    "            X = block(X)\n",
    "        return X"
   ],
   "id": "296b76f2840c3e3c",
   "outputs": [],
   "execution_count": 13
  },
  {
   "metadata": {
    "ExecuteTime": {
     "end_time": "2025-09-09T09:18:41.729380Z",
     "start_time": "2025-09-09T09:18:41.714878Z"
    }
   },
   "cell_type": "code",
   "source": [
    "net = MySequential(nn.Linear(20, 256), nn.ReLU(), nn.Linear(256, 10))\n",
    "net(X)"
   ],
   "id": "71f43d8fbfe9e47d",
   "outputs": [
    {
     "data": {
      "text/plain": [
       "tensor([[ 0.0038,  0.0884,  0.1734, -0.1875, -0.0113,  0.0055, -0.0905, -0.0526,\n",
       "          0.2543,  0.0690],\n",
       "        [-0.0035,  0.0885,  0.1544, -0.1683,  0.0276, -0.0018, -0.0823,  0.0289,\n",
       "          0.2941,  0.1199]], grad_fn=<AddmmBackward0>)"
      ]
     },
     "execution_count": 14,
     "metadata": {},
     "output_type": "execute_result"
    }
   ],
   "execution_count": 14
  },
  {
   "metadata": {},
   "cell_type": "markdown",
   "source": "### 5.1.3 在前向传播中执行代码",
   "id": "64daa5a3e9ebd0ec"
  },
  {
   "metadata": {
    "ExecuteTime": {
     "end_time": "2025-09-09T09:31:37.605239Z",
     "start_time": "2025-09-09T09:31:37.590847Z"
    }
   },
   "cell_type": "code",
   "source": [
    "class FixedHiddenMLP(nn.Module):\n",
    "    def __init__(self):\n",
    "        super().__init__()\n",
    "\n",
    "        # 不计算梯度的固定随机参数\n",
    "        self.rand_weight = torch.rand([20, 20], requires_grad=False)\n",
    "        self.linear = nn.Linear(20, 20)\n",
    "\n",
    "    def forward(self, X):\n",
    "        X = self.linear(X)\n",
    "        # 使用常量参数及relu, mm函数\n",
    "        X = F.relu(torch.mm(X, self.rand_weight) + 1)\n",
    "        # 复用全连接层\n",
    "        X = self.linear(X)\n",
    "\n",
    "        while X.abs().sum() > 1:  # L1范数\n",
    "            X /= 2\n",
    "        return X.sum()"
   ],
   "id": "ca2ac01f2d0d2836",
   "outputs": [],
   "execution_count": 19
  },
  {
   "metadata": {
    "ExecuteTime": {
     "end_time": "2025-09-09T09:31:43.388508Z",
     "start_time": "2025-09-09T09:31:43.382512Z"
    }
   },
   "cell_type": "code",
   "source": [
    "net = FixedHiddenMLP()\n",
    "net(X)"
   ],
   "id": "1acd3f565f11e8e3",
   "outputs": [
    {
     "data": {
      "text/plain": [
       "tensor(0.0417, grad_fn=<SumBackward0>)"
      ]
     },
     "execution_count": 21,
     "metadata": {},
     "output_type": "execute_result"
    }
   ],
   "execution_count": 21
  },
  {
   "metadata": {
    "ExecuteTime": {
     "end_time": "2025-09-09T09:34:24.893150Z",
     "start_time": "2025-09-09T09:34:24.880151Z"
    }
   },
   "cell_type": "code",
   "source": [
    "# 混合搭配各种组合块\n",
    "class NestMLP(nn.Module):\n",
    "    def __init__(self):\n",
    "        super().__init__()\n",
    "\n",
    "        self.net = nn.Sequential(nn.Linear(20, 64), nn.ReLU(), nn.Linear(64, 32), nn.ReLU())\n",
    "        self.linear = nn.Linear(32, 16)\n",
    "\n",
    "    def forward(self, X):\n",
    "        return self.linear(self.net(X))"
   ],
   "id": "b6aee39505ec16c1",
   "outputs": [],
   "execution_count": 22
  },
  {
   "metadata": {
    "ExecuteTime": {
     "end_time": "2025-09-09T09:35:16.426796Z",
     "start_time": "2025-09-09T09:35:16.413292Z"
    }
   },
   "cell_type": "code",
   "source": [
    "chimera = nn.Sequential(NestMLP(), nn.Linear(16, 20), FixedHiddenMLP())\n",
    "chimera(X)"
   ],
   "id": "bd2c721cc50dd10a",
   "outputs": [
    {
     "data": {
      "text/plain": [
       "tensor(-0.1530, grad_fn=<SumBackward0>)"
      ]
     },
     "execution_count": 23,
     "metadata": {},
     "output_type": "execute_result"
    }
   ],
   "execution_count": 23
  },
  {
   "metadata": {},
   "cell_type": "code",
   "outputs": [],
   "execution_count": null,
   "source": "",
   "id": "ca95d3f3605d275f"
  }
 ],
 "metadata": {
  "kernelspec": {
   "display_name": "Python 3",
   "language": "python",
   "name": "python3"
  },
  "language_info": {
   "codemirror_mode": {
    "name": "ipython",
    "version": 2
   },
   "file_extension": ".py",
   "mimetype": "text/x-python",
   "name": "python",
   "nbconvert_exporter": "python",
   "pygments_lexer": "ipython2",
   "version": "2.7.6"
  }
 },
 "nbformat": 4,
 "nbformat_minor": 5
}
