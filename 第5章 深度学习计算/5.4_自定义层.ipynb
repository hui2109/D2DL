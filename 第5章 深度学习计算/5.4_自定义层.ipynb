{
 "cells": [
  {
   "metadata": {},
   "cell_type": "markdown",
   "source": "### 5.4.1 不带参数的层",
   "id": "fb93b233335114fd"
  },
  {
   "cell_type": "code",
   "id": "initial_id",
   "metadata": {
    "collapsed": true,
    "ExecuteTime": {
     "end_time": "2025-09-10T07:59:31.424323Z",
     "start_time": "2025-09-10T07:59:28.908730Z"
    }
   },
   "source": [
    "import torch\n",
    "import torch.nn.functional as F\n",
    "from torch import nn"
   ],
   "outputs": [],
   "execution_count": 1
  },
  {
   "metadata": {
    "ExecuteTime": {
     "end_time": "2025-09-10T08:00:44.855755Z",
     "start_time": "2025-09-10T08:00:44.846754Z"
    }
   },
   "cell_type": "code",
   "source": [
    "class CenteredLayer(nn.Module):\n",
    "    def __init__(self):\n",
    "        super(CenteredLayer, self).__init__()\n",
    "\n",
    "    def forward(self, X):\n",
    "        return X - X.mean()"
   ],
   "id": "a60fa1ed20f0d95c",
   "outputs": [],
   "execution_count": 2
  },
  {
   "metadata": {
    "ExecuteTime": {
     "end_time": "2025-09-10T08:01:19.507003Z",
     "start_time": "2025-09-10T08:01:19.437395Z"
    }
   },
   "cell_type": "code",
   "source": [
    "layer = CenteredLayer()\n",
    "layer(torch.FloatTensor([1, 2, 3, 4, 5]))"
   ],
   "id": "f8ff6b832d9946dc",
   "outputs": [
    {
     "data": {
      "text/plain": [
       "tensor([-2., -1.,  0.,  1.,  2.])"
      ]
     },
     "execution_count": 3,
     "metadata": {},
     "output_type": "execute_result"
    }
   ],
   "execution_count": 3
  },
  {
   "metadata": {
    "ExecuteTime": {
     "end_time": "2025-09-10T08:03:04.521487Z",
     "start_time": "2025-09-10T08:03:04.465617Z"
    }
   },
   "cell_type": "code",
   "source": [
    "net = nn.Sequential(nn.Linear(8, 128), CenteredLayer())\n",
    "Y = net(torch.randn(4, 8))"
   ],
   "id": "1bf4a449c4d36eab",
   "outputs": [],
   "execution_count": 4
  },
  {
   "metadata": {
    "ExecuteTime": {
     "end_time": "2025-09-10T08:03:18.316401Z",
     "start_time": "2025-09-10T08:03:18.273588Z"
    }
   },
   "cell_type": "code",
   "source": "Y.shape, Y.mean()  # 均值不为0  浮点数误差",
   "id": "9ce62b0047998884",
   "outputs": [
    {
     "data": {
      "text/plain": [
       "(torch.Size([4, 128]), tensor(-1.8626e-09, grad_fn=<MeanBackward0>))"
      ]
     },
     "execution_count": 5,
     "metadata": {},
     "output_type": "execute_result"
    }
   ],
   "execution_count": 5
  },
  {
   "metadata": {},
   "cell_type": "markdown",
   "source": "### 5.4.2 带参数的层",
   "id": "9ba607517cd24ef9"
  },
  {
   "metadata": {
    "ExecuteTime": {
     "end_time": "2025-09-10T08:11:55.757852Z",
     "start_time": "2025-09-10T08:11:55.743851Z"
    }
   },
   "cell_type": "code",
   "source": [
    "class MyLinear(nn.Module):\n",
    "    def __init__(self, in_units, units):\n",
    "        super(MyLinear, self).__init__()\n",
    "\n",
    "        self.weight = nn.Parameter(torch.randn(in_units, units))\n",
    "        self.bias = nn.Parameter(torch.randn(units))\n",
    "\n",
    "    def forward(self, X):\n",
    "        linear = torch.matmul(X, self.weight.data) + self.bias.data\n",
    "        return F.relu(linear)"
   ],
   "id": "4323ccd13ab51a28",
   "outputs": [],
   "execution_count": 6
  },
  {
   "metadata": {
    "ExecuteTime": {
     "end_time": "2025-09-10T08:12:16.055268Z",
     "start_time": "2025-09-10T08:12:16.011232Z"
    }
   },
   "cell_type": "code",
   "source": [
    "linear = MyLinear(5, 3)\n",
    "linear.weight"
   ],
   "id": "e1aa44b88fe7936a",
   "outputs": [
    {
     "data": {
      "text/plain": [
       "Parameter containing:\n",
       "tensor([[ 0.2510,  0.1672, -2.3036],\n",
       "        [-0.1606,  0.2086,  1.0536],\n",
       "        [ 0.0312, -2.0401,  0.9567],\n",
       "        [ 0.5173,  0.4098,  0.1403],\n",
       "        [-0.1131, -0.1593, -2.1333]], requires_grad=True)"
      ]
     },
     "execution_count": 7,
     "metadata": {},
     "output_type": "execute_result"
    }
   ],
   "execution_count": 7
  },
  {
   "metadata": {
    "ExecuteTime": {
     "end_time": "2025-09-10T08:13:23.955068Z",
     "start_time": "2025-09-10T08:13:23.945069Z"
    }
   },
   "cell_type": "code",
   "source": "linear(torch.randn(2, 5))",
   "id": "87ecb13a2f78b05",
   "outputs": [
    {
     "data": {
      "text/plain": [
       "tensor([[0., 0., 0.],\n",
       "        [0., 0., 0.]])"
      ]
     },
     "execution_count": 14,
     "metadata": {},
     "output_type": "execute_result"
    }
   ],
   "execution_count": 14
  },
  {
   "metadata": {
    "ExecuteTime": {
     "end_time": "2025-09-10T08:14:16.853652Z",
     "start_time": "2025-09-10T08:14:16.701788Z"
    }
   },
   "cell_type": "code",
   "source": [
    "net = nn.Sequential(MyLinear(64, 8), MyLinear(8, 1))\n",
    "net(torch.randn(2, 64))"
   ],
   "id": "7a08073bed594198",
   "outputs": [
    {
     "data": {
      "text/plain": [
       "tensor([[0.],\n",
       "        [0.]])"
      ]
     },
     "execution_count": 15,
     "metadata": {},
     "output_type": "execute_result"
    }
   ],
   "execution_count": 15
  },
  {
   "metadata": {},
   "cell_type": "code",
   "outputs": [],
   "execution_count": null,
   "source": "",
   "id": "601779c7e3f2786e"
  }
 ],
 "metadata": {
  "kernelspec": {
   "display_name": "Python 3",
   "language": "python",
   "name": "python3"
  },
  "language_info": {
   "codemirror_mode": {
    "name": "ipython",
    "version": 2
   },
   "file_extension": ".py",
   "mimetype": "text/x-python",
   "name": "python",
   "nbconvert_exporter": "python",
   "pygments_lexer": "ipython2",
   "version": "2.7.6"
  }
 },
 "nbformat": 4,
 "nbformat_minor": 5
}
