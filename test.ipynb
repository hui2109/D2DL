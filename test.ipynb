{
 "cells": [
  {
   "metadata": {
    "ExecuteTime": {
     "end_time": "2025-08-30T14:15:16.428430Z",
     "start_time": "2025-08-30T14:15:15.314509Z"
    }
   },
   "cell_type": "code",
   "source": [
    "import torch\n",
    "from torch import nn"
   ],
   "id": "5a98d7fc34a8dde3",
   "outputs": [],
   "execution_count": 1
  },
  {
   "metadata": {
    "ExecuteTime": {
     "end_time": "2025-08-30T14:15:16.443437Z",
     "start_time": "2025-08-30T14:15:16.432429Z"
    }
   },
   "cell_type": "code",
   "source": [
    "X = torch.tensor([\n",
    "    [1.0, 2.0],\n",
    "    [3.0, 4.0],\n",
    "    [5.0, 6.0],\n",
    "])\n",
    "w = torch.tensor([\n",
    "    [10.0],\n",
    "    [20.0],\n",
    "], requires_grad=True)\n",
    "b = torch.tensor([5.0], requires_grad=True)"
   ],
   "id": "db0cffdf7e87191b",
   "outputs": [],
   "execution_count": 2
  },
  {
   "metadata": {
    "ExecuteTime": {
     "end_time": "2025-08-30T14:15:16.458437Z",
     "start_time": "2025-08-30T14:15:16.448438Z"
    }
   },
   "cell_type": "code",
   "source": "w, w.shape",
   "id": "6114659f5a8394a1",
   "outputs": [
    {
     "data": {
      "text/plain": [
       "(tensor([[10.],\n",
       "         [20.]], requires_grad=True),\n",
       " torch.Size([2, 1]))"
      ]
     },
     "execution_count": 3,
     "metadata": {},
     "output_type": "execute_result"
    }
   ],
   "execution_count": 3
  },
  {
   "metadata": {
    "ExecuteTime": {
     "end_time": "2025-08-30T14:15:16.474438Z",
     "start_time": "2025-08-30T14:15:16.465439Z"
    }
   },
   "cell_type": "code",
   "source": "b, b.shape",
   "id": "25ae7b3d428ec0e1",
   "outputs": [
    {
     "data": {
      "text/plain": [
       "(tensor([5.], requires_grad=True), torch.Size([1]))"
      ]
     },
     "execution_count": 4,
     "metadata": {},
     "output_type": "execute_result"
    }
   ],
   "execution_count": 4
  },
  {
   "metadata": {
    "ExecuteTime": {
     "end_time": "2025-08-30T14:15:16.490444Z",
     "start_time": "2025-08-30T14:15:16.481443Z"
    }
   },
   "cell_type": "code",
   "source": [
    "l = (torch.mm(X, w) + b) ** 2 / 2\n",
    "l"
   ],
   "id": "aa6e8d900051f0e5",
   "outputs": [
    {
     "data": {
      "text/plain": [
       "tensor([[ 1512.5000],\n",
       "        [ 6612.5000],\n",
       "        [15312.5000]], grad_fn=<DivBackward0>)"
      ]
     },
     "execution_count": 5,
     "metadata": {},
     "output_type": "execute_result"
    }
   ],
   "execution_count": 5
  },
  {
   "metadata": {
    "ExecuteTime": {
     "end_time": "2025-08-30T14:15:16.770761Z",
     "start_time": "2025-08-30T14:15:16.744357Z"
    }
   },
   "cell_type": "code",
   "source": "l.mean().backward()",
   "id": "b7bc046b727a16a6",
   "outputs": [],
   "execution_count": 6
  },
  {
   "metadata": {
    "ExecuteTime": {
     "end_time": "2025-08-30T14:15:16.880196Z",
     "start_time": "2025-08-30T14:15:16.863370Z"
    }
   },
   "cell_type": "code",
   "source": "w.grad",
   "id": "16efbe5cde477618",
   "outputs": [
    {
     "data": {
      "text/plain": [
       "tensor([[425.0000],\n",
       "        [540.0000]])"
      ]
     },
     "execution_count": 7,
     "metadata": {},
     "output_type": "execute_result"
    }
   ],
   "execution_count": 7
  },
  {
   "metadata": {
    "ExecuteTime": {
     "end_time": "2025-08-30T14:15:16.958880Z",
     "start_time": "2025-08-30T14:15:16.945881Z"
    }
   },
   "cell_type": "code",
   "source": [
    "m = torch.tensor([1.0, 2.0, 101.0], requires_grad=True)\n",
    "n = torch.tensor([2.0, 3.0, 4.0])"
   ],
   "id": "53a9470e3693f01e",
   "outputs": [],
   "execution_count": 8
  },
  {
   "metadata": {
    "ExecuteTime": {
     "end_time": "2025-08-30T14:15:17.068426Z",
     "start_time": "2025-08-30T14:15:17.062427Z"
    }
   },
   "cell_type": "code",
   "source": "loss = nn.MSELoss()",
   "id": "f548baed22c0e34b",
   "outputs": [],
   "execution_count": 9
  },
  {
   "metadata": {
    "ExecuteTime": {
     "end_time": "2025-08-30T14:15:17.115020Z",
     "start_time": "2025-08-30T14:15:17.107217Z"
    }
   },
   "cell_type": "code",
   "source": [
    "l = loss(m, n)\n",
    "l"
   ],
   "id": "8c5620a269a956ca",
   "outputs": [
    {
     "data": {
      "text/plain": [
       "tensor(3137., grad_fn=<MseLossBackward0>)"
      ]
     },
     "execution_count": 10,
     "metadata": {},
     "output_type": "execute_result"
    }
   ],
   "execution_count": 10
  },
  {
   "metadata": {
    "ExecuteTime": {
     "end_time": "2025-08-30T14:15:33.889097Z",
     "start_time": "2025-08-30T14:15:33.842969Z"
    }
   },
   "cell_type": "code",
   "source": "l.backward()",
   "id": "acc614d3e37f0e1a",
   "outputs": [],
   "execution_count": 11
  },
  {
   "metadata": {
    "ExecuteTime": {
     "end_time": "2025-08-30T14:15:40.811893Z",
     "start_time": "2025-08-30T14:15:40.797509Z"
    }
   },
   "cell_type": "code",
   "source": "m.grad",
   "id": "320f6cc3ef7580ce",
   "outputs": [
    {
     "data": {
      "text/plain": [
       "tensor([-0.6667, -0.6667, 64.6667])"
      ]
     },
     "execution_count": 12,
     "metadata": {},
     "output_type": "execute_result"
    }
   ],
   "execution_count": 12
  },
  {
   "metadata": {
    "ExecuteTime": {
     "end_time": "2025-08-30T14:22:39.484241Z",
     "start_time": "2025-08-30T14:22:39.472289Z"
    }
   },
   "cell_type": "code",
   "source": "n.mean()",
   "id": "7426fd91913110e8",
   "outputs": [
    {
     "data": {
      "text/plain": [
       "tensor(3.)"
      ]
     },
     "execution_count": 13,
     "metadata": {},
     "output_type": "execute_result"
    }
   ],
   "execution_count": 13
  },
  {
   "metadata": {},
   "cell_type": "code",
   "outputs": [],
   "execution_count": null,
   "source": "",
   "id": "41ed04448501b874"
  }
 ],
 "metadata": {
  "kernelspec": {
   "display_name": "Python 3",
   "language": "python",
   "name": "python3"
  },
  "language_info": {
   "codemirror_mode": {
    "name": "ipython",
    "version": 2
   },
   "file_extension": ".py",
   "mimetype": "text/x-python",
   "name": "python",
   "nbconvert_exporter": "python",
   "pygments_lexer": "ipython2",
   "version": "2.7.6"
  }
 },
 "nbformat": 4,
 "nbformat_minor": 5
}
