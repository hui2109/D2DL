{
 "cells": [
  {
   "cell_type": "code",
   "id": "initial_id",
   "metadata": {
    "collapsed": true,
    "ExecuteTime": {
     "end_time": "2025-08-24T12:48:51.503025Z",
     "start_time": "2025-08-24T12:48:51.486313Z"
    }
   },
   "source": "import torch",
   "outputs": [],
   "execution_count": 30
  },
  {
   "metadata": {
    "ExecuteTime": {
     "end_time": "2025-08-24T12:48:51.875066Z",
     "start_time": "2025-08-24T12:48:51.862460Z"
    }
   },
   "cell_type": "code",
   "source": [
    "x = torch.tensor([1.0, 2.0, 3.0], requires_grad=True)\n",
    "y = x ** 3"
   ],
   "id": "2e8a5c12f1d53696",
   "outputs": [],
   "execution_count": 31
  },
  {
   "metadata": {
    "ExecuteTime": {
     "end_time": "2025-08-24T12:48:52.293198Z",
     "start_time": "2025-08-24T12:48:52.277761Z"
    }
   },
   "cell_type": "code",
   "source": [
    "y.sum().backward(create_graph=True)\n",
    "x.grad"
   ],
   "id": "719009d0ecfb6bda",
   "outputs": [
    {
     "data": {
      "text/plain": [
       "tensor([ 3., 12., 27.], grad_fn=<CopyBackwards>)"
      ]
     },
     "execution_count": 32,
     "metadata": {},
     "output_type": "execute_result"
    }
   ],
   "execution_count": 32
  },
  {
   "metadata": {},
   "cell_type": "code",
   "source": [
    "hessian_rows = []\n",
    "for g in x.grad:\n",
    "    # 对一阶梯度的每个分量再求梯度\n",
    "    g.backward()\n",
    "    hessian_rows.append(x.grad)"
   ],
   "id": "c46ff0906cfa8d2d",
   "outputs": [],
   "execution_count": null
  },
  {
   "metadata": {
    "ExecuteTime": {
     "end_time": "2025-08-24T12:48:16.744352Z",
     "start_time": "2025-08-24T12:48:16.729837Z"
    }
   },
   "cell_type": "code",
   "source": "hessian_rows",
   "id": "c4388f4949736151",
   "outputs": [
    {
     "data": {
      "text/plain": [
       "[(tensor([6., 0., 0.]),),\n",
       " (tensor([ 0., 12.,  0.]),),\n",
       " (tensor([ 0.,  0., 18.]),)]"
      ]
     },
     "execution_count": 29,
     "metadata": {},
     "output_type": "execute_result"
    }
   ],
   "execution_count": 29
  },
  {
   "metadata": {},
   "cell_type": "code",
   "outputs": [],
   "execution_count": null,
   "source": "",
   "id": "776ed921bc113c2a"
  }
 ],
 "metadata": {
  "kernelspec": {
   "display_name": "Python 3",
   "language": "python",
   "name": "python3"
  },
  "language_info": {
   "codemirror_mode": {
    "name": "ipython",
    "version": 2
   },
   "file_extension": ".py",
   "mimetype": "text/x-python",
   "name": "python",
   "nbconvert_exporter": "python",
   "pygments_lexer": "ipython2",
   "version": "2.7.6"
  }
 },
 "nbformat": 4,
 "nbformat_minor": 5
}
