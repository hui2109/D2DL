{
 "cells": [
  {
   "metadata": {},
   "cell_type": "markdown",
   "source": "### 2.3.1 标量",
   "id": "6ff0be6905b05dd"
  },
  {
   "cell_type": "code",
   "id": "initial_id",
   "metadata": {
    "collapsed": true,
    "ExecuteTime": {
     "end_time": "2025-08-23T16:18:11.418263Z",
     "start_time": "2025-08-23T16:18:08.921374Z"
    }
   },
   "source": [
    "import torch\n",
    "\n",
    "x = torch.tensor(3.0)\n",
    "y = torch.tensor(2.0)\n",
    "x + y, x * y, x / y, x ** y"
   ],
   "outputs": [
    {
     "data": {
      "text/plain": [
       "(tensor(5.), tensor(6.), tensor(1.5000), tensor(9.))"
      ]
     },
     "execution_count": 2,
     "metadata": {},
     "output_type": "execute_result"
    }
   ],
   "execution_count": 2
  },
  {
   "metadata": {
    "ExecuteTime": {
     "end_time": "2025-08-22T06:20:36.684559Z",
     "start_time": "2025-08-22T06:20:36.676282Z"
    }
   },
   "cell_type": "code",
   "source": "x.shape",
   "id": "d79c87a04a1f567e",
   "outputs": [
    {
     "data": {
      "text/plain": [
       "torch.Size([])"
      ]
     },
     "execution_count": 9,
     "metadata": {},
     "output_type": "execute_result"
    }
   ],
   "execution_count": 9
  },
  {
   "metadata": {},
   "cell_type": "markdown",
   "source": "### 2.3.2 向量",
   "id": "dfb2c343107603ca"
  },
  {
   "metadata": {
    "ExecuteTime": {
     "end_time": "2025-08-22T06:20:54.660213Z",
     "start_time": "2025-08-22T06:20:54.647150Z"
    }
   },
   "cell_type": "code",
   "source": [
    "x = torch.arange(4)\n",
    "x"
   ],
   "id": "46aef20b44f9195f",
   "outputs": [
    {
     "data": {
      "text/plain": [
       "tensor([0, 1, 2, 3])"
      ]
     },
     "execution_count": 10,
     "metadata": {},
     "output_type": "execute_result"
    }
   ],
   "execution_count": 10
  },
  {
   "metadata": {
    "ExecuteTime": {
     "end_time": "2025-08-22T06:20:55.305207Z",
     "start_time": "2025-08-22T06:20:55.294667Z"
    }
   },
   "cell_type": "code",
   "source": "x[3]",
   "id": "6e5231ed61c4d443",
   "outputs": [
    {
     "data": {
      "text/plain": [
       "tensor(3)"
      ]
     },
     "execution_count": 11,
     "metadata": {},
     "output_type": "execute_result"
    }
   ],
   "execution_count": 11
  },
  {
   "metadata": {
    "ExecuteTime": {
     "end_time": "2025-08-22T06:20:55.889341Z",
     "start_time": "2025-08-22T06:20:55.883602Z"
    }
   },
   "cell_type": "code",
   "source": "len(x), x.shape",
   "id": "4ebccdde1288b9dc",
   "outputs": [
    {
     "data": {
      "text/plain": [
       "(4, torch.Size([4]))"
      ]
     },
     "execution_count": 12,
     "metadata": {},
     "output_type": "execute_result"
    }
   ],
   "execution_count": 12
  },
  {
   "metadata": {},
   "cell_type": "markdown",
   "source": "### 2.3.3 矩阵",
   "id": "74cb9297340b32a5"
  },
  {
   "metadata": {
    "ExecuteTime": {
     "end_time": "2025-08-22T06:33:40.730743Z",
     "start_time": "2025-08-22T06:33:40.680529Z"
    }
   },
   "cell_type": "code",
   "source": [
    "A = torch.arange(20).reshape(5, 4)\n",
    "A"
   ],
   "id": "41fd45dc423f10e3",
   "outputs": [
    {
     "data": {
      "text/plain": [
       "tensor([[ 0,  1,  2,  3],\n",
       "        [ 4,  5,  6,  7],\n",
       "        [ 8,  9, 10, 11],\n",
       "        [12, 13, 14, 15],\n",
       "        [16, 17, 18, 19]])"
      ]
     },
     "execution_count": 13,
     "metadata": {},
     "output_type": "execute_result"
    }
   ],
   "execution_count": 13
  },
  {
   "metadata": {
    "ExecuteTime": {
     "end_time": "2025-08-22T06:33:55.959276Z",
     "start_time": "2025-08-22T06:33:55.941918Z"
    }
   },
   "cell_type": "code",
   "source": "A.T",
   "id": "606832bff8ba8587",
   "outputs": [
    {
     "data": {
      "text/plain": [
       "tensor([[ 0,  4,  8, 12, 16],\n",
       "        [ 1,  5,  9, 13, 17],\n",
       "        [ 2,  6, 10, 14, 18],\n",
       "        [ 3,  7, 11, 15, 19]])"
      ]
     },
     "execution_count": 14,
     "metadata": {},
     "output_type": "execute_result"
    }
   ],
   "execution_count": 14
  },
  {
   "metadata": {
    "ExecuteTime": {
     "end_time": "2025-08-22T06:39:53.871198Z",
     "start_time": "2025-08-22T06:39:53.861537Z"
    }
   },
   "cell_type": "code",
   "source": [
    "B = torch.tensor([\n",
    "    [1, 2, 3],\n",
    "    [2, 0, 4],\n",
    "    [3, 4, 5],\n",
    "])"
   ],
   "id": "9a16ca7c2cb4188",
   "outputs": [],
   "execution_count": 16
  },
  {
   "metadata": {
    "ExecuteTime": {
     "end_time": "2025-08-22T06:39:54.331912Z",
     "start_time": "2025-08-22T06:39:54.318209Z"
    }
   },
   "cell_type": "code",
   "source": "B == B.T",
   "id": "9547ad202ff2258b",
   "outputs": [
    {
     "data": {
      "text/plain": [
       "tensor([[True, True, True],\n",
       "        [True, True, True],\n",
       "        [True, True, True]])"
      ]
     },
     "execution_count": 17,
     "metadata": {},
     "output_type": "execute_result"
    }
   ],
   "execution_count": 17
  },
  {
   "metadata": {},
   "cell_type": "markdown",
   "source": "### 2.3.4 张量",
   "id": "4fff2a9e04ece61d"
  },
  {
   "metadata": {
    "ExecuteTime": {
     "end_time": "2025-08-22T06:46:07.198673Z",
     "start_time": "2025-08-22T06:46:07.155953Z"
    }
   },
   "cell_type": "code",
   "source": [
    "X = torch.arange(24).reshape(2, 3, 4)\n",
    "X"
   ],
   "id": "d712628886d06d8e",
   "outputs": [
    {
     "data": {
      "text/plain": [
       "tensor([[[ 0,  1,  2,  3],\n",
       "         [ 4,  5,  6,  7],\n",
       "         [ 8,  9, 10, 11]],\n",
       "\n",
       "        [[12, 13, 14, 15],\n",
       "         [16, 17, 18, 19],\n",
       "         [20, 21, 22, 23]]])"
      ]
     },
     "execution_count": 18,
     "metadata": {},
     "output_type": "execute_result"
    }
   ],
   "execution_count": 18
  },
  {
   "metadata": {},
   "cell_type": "markdown",
   "source": "### 2.3.5 张量算法的基本性质",
   "id": "610bce22326e8946"
  },
  {
   "metadata": {
    "ExecuteTime": {
     "end_time": "2025-08-22T06:53:47.696452Z",
     "start_time": "2025-08-22T06:53:47.673395Z"
    }
   },
   "cell_type": "code",
   "source": [
    "A = torch.arange(20, dtype=torch.float32).reshape(5, 4)\n",
    "B = A.clone()  # 通过分配新内存，将A的一个副本分配给B\n",
    "A, A + B"
   ],
   "id": "95a0989a757ad88b",
   "outputs": [
    {
     "data": {
      "text/plain": [
       "(tensor([[ 0.,  1.,  2.,  3.],\n",
       "         [ 4.,  5.,  6.,  7.],\n",
       "         [ 8.,  9., 10., 11.],\n",
       "         [12., 13., 14., 15.],\n",
       "         [16., 17., 18., 19.]]),\n",
       " tensor([[ 0.,  2.,  4.,  6.],\n",
       "         [ 8., 10., 12., 14.],\n",
       "         [16., 18., 20., 22.],\n",
       "         [24., 26., 28., 30.],\n",
       "         [32., 34., 36., 38.]]))"
      ]
     },
     "execution_count": 20,
     "metadata": {},
     "output_type": "execute_result"
    }
   ],
   "execution_count": 20
  },
  {
   "metadata": {
    "ExecuteTime": {
     "end_time": "2025-08-22T06:54:26.154282Z",
     "start_time": "2025-08-22T06:54:26.141202Z"
    }
   },
   "cell_type": "code",
   "source": [
    "# 两个矩阵的按元素乘法称为Hadamard积\n",
    "A * B"
   ],
   "id": "180df26450d9a5e9",
   "outputs": [
    {
     "data": {
      "text/plain": [
       "tensor([[  0.,   1.,   4.,   9.],\n",
       "        [ 16.,  25.,  36.,  49.],\n",
       "        [ 64.,  81., 100., 121.],\n",
       "        [144., 169., 196., 225.],\n",
       "        [256., 289., 324., 361.]])"
      ]
     },
     "execution_count": 21,
     "metadata": {},
     "output_type": "execute_result"
    }
   ],
   "execution_count": 21
  },
  {
   "metadata": {
    "ExecuteTime": {
     "end_time": "2025-08-22T06:55:07.518489Z",
     "start_time": "2025-08-22T06:55:07.499974Z"
    }
   },
   "cell_type": "code",
   "source": [
    "a = 2\n",
    "X = torch.arange(24).reshape(2, 3, 4)\n",
    "a + X, (a * X).shape"
   ],
   "id": "bf5432c711753387",
   "outputs": [
    {
     "data": {
      "text/plain": [
       "(tensor([[[ 2,  3,  4,  5],\n",
       "          [ 6,  7,  8,  9],\n",
       "          [10, 11, 12, 13]],\n",
       " \n",
       "         [[14, 15, 16, 17],\n",
       "          [18, 19, 20, 21],\n",
       "          [22, 23, 24, 25]]]),\n",
       " torch.Size([2, 3, 4]))"
      ]
     },
     "execution_count": 22,
     "metadata": {},
     "output_type": "execute_result"
    }
   ],
   "execution_count": 22
  },
  {
   "metadata": {},
   "cell_type": "markdown",
   "source": "### 2.3.6 降维",
   "id": "13fd435ffa7ee46d"
  },
  {
   "metadata": {
    "ExecuteTime": {
     "end_time": "2025-08-22T07:29:40.784474Z",
     "start_time": "2025-08-22T07:29:40.720251Z"
    }
   },
   "cell_type": "code",
   "source": [
    "x = torch.arange(4, dtype=torch.float32)\n",
    "x, x.sum()"
   ],
   "id": "82f23eccf02b21d0",
   "outputs": [
    {
     "data": {
      "text/plain": [
       "(tensor([0., 1., 2., 3.]), tensor(6.))"
      ]
     },
     "execution_count": 23,
     "metadata": {},
     "output_type": "execute_result"
    }
   ],
   "execution_count": 23
  },
  {
   "metadata": {
    "ExecuteTime": {
     "end_time": "2025-08-22T07:35:12.153328Z",
     "start_time": "2025-08-22T07:35:12.141656Z"
    }
   },
   "cell_type": "code",
   "source": "A, A.shape, A.sum()",
   "id": "ec01b76dc13eaa60",
   "outputs": [
    {
     "data": {
      "text/plain": [
       "(tensor([[ 0.,  1.,  2.,  3.],\n",
       "         [ 4.,  5.,  6.,  7.],\n",
       "         [ 8.,  9., 10., 11.],\n",
       "         [12., 13., 14., 15.],\n",
       "         [16., 17., 18., 19.]]),\n",
       " torch.Size([5, 4]),\n",
       " tensor(190.))"
      ]
     },
     "execution_count": 25,
     "metadata": {},
     "output_type": "execute_result"
    }
   ],
   "execution_count": 25
  },
  {
   "metadata": {
    "ExecuteTime": {
     "end_time": "2025-08-22T07:37:05.675843Z",
     "start_time": "2025-08-22T07:37:05.670115Z"
    }
   },
   "cell_type": "code",
   "source": [
    "A_sum_axis0 = A.sum(axis=0)\n",
    "A_sum_axis0"
   ],
   "id": "caaf509ad25945cf",
   "outputs": [
    {
     "data": {
      "text/plain": [
       "tensor([40., 45., 50., 55.])"
      ]
     },
     "execution_count": 27,
     "metadata": {},
     "output_type": "execute_result"
    }
   ],
   "execution_count": 27
  },
  {
   "metadata": {
    "ExecuteTime": {
     "end_time": "2025-08-22T07:40:28.435182Z",
     "start_time": "2025-08-22T07:40:28.377778Z"
    }
   },
   "cell_type": "code",
   "source": [
    "A_sum_axis1 = A.sum(axis=1)\n",
    "A_sum_axis1"
   ],
   "id": "129c7ed8d8cfa3f3",
   "outputs": [
    {
     "data": {
      "text/plain": [
       "tensor([ 6., 22., 38., 54., 70.])"
      ]
     },
     "execution_count": 28,
     "metadata": {},
     "output_type": "execute_result"
    }
   ],
   "execution_count": 28
  },
  {
   "metadata": {
    "ExecuteTime": {
     "end_time": "2025-08-22T07:41:22.378206Z",
     "start_time": "2025-08-22T07:41:22.364347Z"
    }
   },
   "cell_type": "code",
   "source": "A.sum(axis=[0, 1]), A.sum()",
   "id": "7ba07623f7af50f7",
   "outputs": [
    {
     "data": {
      "text/plain": [
       "(tensor(190.), tensor(190.))"
      ]
     },
     "execution_count": 29,
     "metadata": {},
     "output_type": "execute_result"
    }
   ],
   "execution_count": 29
  },
  {
   "metadata": {},
   "cell_type": "markdown",
   "source": "求平均值",
   "id": "77d9c77759086a30"
  },
  {
   "metadata": {
    "ExecuteTime": {
     "end_time": "2025-08-22T07:42:24.532928Z",
     "start_time": "2025-08-22T07:42:24.505143Z"
    }
   },
   "cell_type": "code",
   "source": "A.mean(), A.sum() / A.numel()",
   "id": "b6c5c8c7a0ef33b9",
   "outputs": [
    {
     "data": {
      "text/plain": [
       "(tensor(9.5000), tensor(9.5000))"
      ]
     },
     "execution_count": 30,
     "metadata": {},
     "output_type": "execute_result"
    }
   ],
   "execution_count": 30
  },
  {
   "metadata": {
    "ExecuteTime": {
     "end_time": "2025-08-22T07:43:03.383239Z",
     "start_time": "2025-08-22T07:43:03.362843Z"
    }
   },
   "cell_type": "code",
   "source": "A.mean(axis=0), A.sum(axis=0) / A.shape[0]",
   "id": "72331a2ceda652a",
   "outputs": [
    {
     "data": {
      "text/plain": [
       "(tensor([ 8.,  9., 10., 11.]), tensor([ 8.,  9., 10., 11.]))"
      ]
     },
     "execution_count": 31,
     "metadata": {},
     "output_type": "execute_result"
    }
   ],
   "execution_count": 31
  },
  {
   "metadata": {},
   "cell_type": "markdown",
   "source": "非降维求和",
   "id": "896a58b1aae2b27f"
  },
  {
   "metadata": {
    "ExecuteTime": {
     "end_time": "2025-08-22T07:49:04.336516Z",
     "start_time": "2025-08-22T07:49:04.326503Z"
    }
   },
   "cell_type": "code",
   "source": [
    "sum_A = A.sum(axis=1, keepdim=True)\n",
    "sum_A, sum_A.shape"
   ],
   "id": "4a28267ca63d591f",
   "outputs": [
    {
     "data": {
      "text/plain": [
       "(tensor([[ 6.],\n",
       "         [22.],\n",
       "         [38.],\n",
       "         [54.],\n",
       "         [70.]]),\n",
       " torch.Size([5, 1]))"
      ]
     },
     "execution_count": 33,
     "metadata": {},
     "output_type": "execute_result"
    }
   ],
   "execution_count": 33
  },
  {
   "metadata": {
    "ExecuteTime": {
     "end_time": "2025-08-22T07:49:22.885148Z",
     "start_time": "2025-08-22T07:49:22.865176Z"
    }
   },
   "cell_type": "code",
   "source": "A, A / sum_A",
   "id": "180faa1473f41e94",
   "outputs": [
    {
     "data": {
      "text/plain": [
       "(tensor([[ 0.,  1.,  2.,  3.],\n",
       "         [ 4.,  5.,  6.,  7.],\n",
       "         [ 8.,  9., 10., 11.],\n",
       "         [12., 13., 14., 15.],\n",
       "         [16., 17., 18., 19.]]),\n",
       " tensor([[0.0000, 0.1667, 0.3333, 0.5000],\n",
       "         [0.1818, 0.2273, 0.2727, 0.3182],\n",
       "         [0.2105, 0.2368, 0.2632, 0.2895],\n",
       "         [0.2222, 0.2407, 0.2593, 0.2778],\n",
       "         [0.2286, 0.2429, 0.2571, 0.2714]]))"
      ]
     },
     "execution_count": 34,
     "metadata": {},
     "output_type": "execute_result"
    }
   ],
   "execution_count": 34
  },
  {
   "metadata": {
    "ExecuteTime": {
     "end_time": "2025-08-22T07:53:17.768124Z",
     "start_time": "2025-08-22T07:53:17.706328Z"
    }
   },
   "cell_type": "code",
   "source": "A.cumsum(axis=0)",
   "id": "5cdab92042bea5eb",
   "outputs": [
    {
     "data": {
      "text/plain": [
       "tensor([[ 0.,  1.,  2.,  3.],\n",
       "        [ 4.,  6.,  8., 10.],\n",
       "        [12., 15., 18., 21.],\n",
       "        [24., 28., 32., 36.],\n",
       "        [40., 45., 50., 55.]])"
      ]
     },
     "execution_count": 35,
     "metadata": {},
     "output_type": "execute_result"
    }
   ],
   "execution_count": 35
  },
  {
   "metadata": {},
   "cell_type": "markdown",
   "source": "### 2.3.7 点积",
   "id": "6d353bbfe362799b"
  },
  {
   "metadata": {
    "ExecuteTime": {
     "end_time": "2025-08-22T08:01:44.029656Z",
     "start_time": "2025-08-22T08:01:44.004284Z"
    }
   },
   "cell_type": "code",
   "source": [
    "y = torch.ones(4, dtype=torch.float32)\n",
    "x, y, torch.dot(x, y), (x * y).sum()"
   ],
   "id": "e6b7a9fbbe583ed7",
   "outputs": [
    {
     "data": {
      "text/plain": [
       "(tensor([0., 1., 2., 3.]), tensor([1., 1., 1., 1.]), tensor(6.), tensor(6.))"
      ]
     },
     "execution_count": 37,
     "metadata": {},
     "output_type": "execute_result"
    }
   ],
   "execution_count": 37
  },
  {
   "metadata": {
    "ExecuteTime": {
     "end_time": "2025-08-22T09:20:52.804865Z",
     "start_time": "2025-08-22T09:20:52.737772Z"
    }
   },
   "cell_type": "code",
   "source": "torch.sum(x * y)",
   "id": "179ccb8bfb8c21c0",
   "outputs": [
    {
     "data": {
      "text/plain": [
       "tensor(6.)"
      ]
     },
     "execution_count": 38,
     "metadata": {},
     "output_type": "execute_result"
    }
   ],
   "execution_count": 38
  },
  {
   "metadata": {},
   "cell_type": "markdown",
   "source": "### 2.3.8 矩阵-向量积",
   "id": "21c55782cd18395a"
  },
  {
   "metadata": {
    "ExecuteTime": {
     "end_time": "2025-08-22T09:21:27.854784Z",
     "start_time": "2025-08-22T09:21:27.842050Z"
    }
   },
   "cell_type": "code",
   "source": "A, x, A.shape, x.shape",
   "id": "cbf55182f03eebc6",
   "outputs": [
    {
     "data": {
      "text/plain": [
       "(tensor([[ 0.,  1.,  2.,  3.],\n",
       "         [ 4.,  5.,  6.,  7.],\n",
       "         [ 8.,  9., 10., 11.],\n",
       "         [12., 13., 14., 15.],\n",
       "         [16., 17., 18., 19.]]),\n",
       " tensor([0., 1., 2., 3.]),\n",
       " torch.Size([5, 4]),\n",
       " torch.Size([4]))"
      ]
     },
     "execution_count": 40,
     "metadata": {},
     "output_type": "execute_result"
    }
   ],
   "execution_count": 40
  },
  {
   "metadata": {
    "ExecuteTime": {
     "end_time": "2025-08-22T09:21:47.637735Z",
     "start_time": "2025-08-22T09:21:47.619852Z"
    }
   },
   "cell_type": "code",
   "source": "torch.mv(A, x)",
   "id": "6c593fb1ae07a32a",
   "outputs": [
    {
     "data": {
      "text/plain": [
       "tensor([ 14.,  38.,  62.,  86., 110.])"
      ]
     },
     "execution_count": 41,
     "metadata": {},
     "output_type": "execute_result"
    }
   ],
   "execution_count": 41
  },
  {
   "metadata": {},
   "cell_type": "markdown",
   "source": "### 2.3.9 矩阵-矩阵乘法",
   "id": "b133f2adda7c3cae"
  },
  {
   "metadata": {
    "ExecuteTime": {
     "end_time": "2025-08-22T09:22:44.818596Z",
     "start_time": "2025-08-22T09:22:44.807939Z"
    }
   },
   "cell_type": "code",
   "source": "B = torch.ones(4, 3)",
   "id": "cd9ee83a88544b67",
   "outputs": [],
   "execution_count": 42
  },
  {
   "metadata": {
    "ExecuteTime": {
     "end_time": "2025-08-22T09:22:55.046652Z",
     "start_time": "2025-08-22T09:22:55.038156Z"
    }
   },
   "cell_type": "code",
   "source": "A, B, A.shape, B.shape",
   "id": "c0b79b3c6f206fd",
   "outputs": [
    {
     "data": {
      "text/plain": [
       "(tensor([[ 0.,  1.,  2.,  3.],\n",
       "         [ 4.,  5.,  6.,  7.],\n",
       "         [ 8.,  9., 10., 11.],\n",
       "         [12., 13., 14., 15.],\n",
       "         [16., 17., 18., 19.]]),\n",
       " tensor([[1., 1., 1.],\n",
       "         [1., 1., 1.],\n",
       "         [1., 1., 1.],\n",
       "         [1., 1., 1.]]),\n",
       " torch.Size([5, 4]),\n",
       " torch.Size([4, 3]))"
      ]
     },
     "execution_count": 43,
     "metadata": {},
     "output_type": "execute_result"
    }
   ],
   "execution_count": 43
  },
  {
   "metadata": {
    "ExecuteTime": {
     "end_time": "2025-08-22T09:23:28.357197Z",
     "start_time": "2025-08-22T09:23:28.337478Z"
    }
   },
   "cell_type": "code",
   "source": "torch.mm(A, B)",
   "id": "e46a304dcbfa204",
   "outputs": [
    {
     "data": {
      "text/plain": [
       "tensor([[ 6.,  6.,  6.],\n",
       "        [22., 22., 22.],\n",
       "        [38., 38., 38.],\n",
       "        [54., 54., 54.],\n",
       "        [70., 70., 70.]])"
      ]
     },
     "execution_count": 44,
     "metadata": {},
     "output_type": "execute_result"
    }
   ],
   "execution_count": 44
  },
  {
   "metadata": {},
   "cell_type": "markdown",
   "source": "### 2.3.10 范数",
   "id": "784f2ae124c661e2"
  },
  {
   "metadata": {
    "ExecuteTime": {
     "end_time": "2025-08-23T16:18:15.852298Z",
     "start_time": "2025-08-23T16:18:15.808031Z"
    }
   },
   "cell_type": "code",
   "source": [
    "# L2范数\n",
    "u = torch.tensor([3.0, 4.0])\n",
    "torch.norm(u)"
   ],
   "id": "3d455d34bf59fb87",
   "outputs": [
    {
     "data": {
      "text/plain": [
       "tensor(5.)"
      ]
     },
     "execution_count": 3,
     "metadata": {},
     "output_type": "execute_result"
    }
   ],
   "execution_count": 3
  },
  {
   "metadata": {
    "ExecuteTime": {
     "end_time": "2025-08-23T16:18:44.018307Z",
     "start_time": "2025-08-23T16:18:43.973326Z"
    }
   },
   "cell_type": "code",
   "source": [
    "# L1范数\n",
    "torch.abs(u).sum()"
   ],
   "id": "697decbc5b7e2dcc",
   "outputs": [
    {
     "data": {
      "text/plain": [
       "tensor(7.)"
      ]
     },
     "execution_count": 4,
     "metadata": {},
     "output_type": "execute_result"
    }
   ],
   "execution_count": 4
  },
  {
   "metadata": {
    "ExecuteTime": {
     "end_time": "2025-08-23T16:19:18.000043Z",
     "start_time": "2025-08-23T16:19:17.953509Z"
    }
   },
   "cell_type": "code",
   "source": "torch.norm(torch.ones([4, 9]))",
   "id": "8a75bcdc4c81b7ca",
   "outputs": [
    {
     "data": {
      "text/plain": [
       "tensor(6.)"
      ]
     },
     "execution_count": 5,
     "metadata": {},
     "output_type": "execute_result"
    }
   ],
   "execution_count": 5
  },
  {
   "metadata": {},
   "cell_type": "code",
   "outputs": [],
   "execution_count": null,
   "source": "",
   "id": "15b7526ca84c9565"
  }
 ],
 "metadata": {
  "kernelspec": {
   "display_name": "Python 3",
   "language": "python",
   "name": "python3"
  },
  "language_info": {
   "codemirror_mode": {
    "name": "ipython",
    "version": 2
   },
   "file_extension": ".py",
   "mimetype": "text/x-python",
   "name": "python",
   "nbconvert_exporter": "python",
   "pygments_lexer": "ipython2",
   "version": "2.7.6"
  }
 },
 "nbformat": 4,
 "nbformat_minor": 5
}
