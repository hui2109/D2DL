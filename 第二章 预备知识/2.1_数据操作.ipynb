{
 "cells": [
  {
   "metadata": {},
   "cell_type": "markdown",
   "source": "### 2.1.1 入门",
   "id": "474e9b19032351ee"
  },
  {
   "cell_type": "code",
   "id": "initial_id",
   "metadata": {
    "collapsed": true,
    "ExecuteTime": {
     "end_time": "2025-08-21T16:13:26.999525Z",
     "start_time": "2025-08-21T16:13:25.854018Z"
    }
   },
   "source": "import torch",
   "outputs": [],
   "execution_count": 2
  },
  {
   "metadata": {
    "ExecuteTime": {
     "end_time": "2025-08-21T16:16:26.807756Z",
     "start_time": "2025-08-21T16:16:26.793668Z"
    }
   },
   "cell_type": "code",
   "source": [
    "x = torch.arange(12)\n",
    "x"
   ],
   "id": "3b9e567ed2e973df",
   "outputs": [
    {
     "data": {
      "text/plain": [
       "tensor([ 0,  1,  2,  3,  4,  5,  6,  7,  8,  9, 10, 11])"
      ]
     },
     "execution_count": 3,
     "metadata": {},
     "output_type": "execute_result"
    }
   ],
   "execution_count": 3
  },
  {
   "metadata": {
    "ExecuteTime": {
     "end_time": "2025-08-21T16:16:37.536990Z",
     "start_time": "2025-08-21T16:16:37.522023Z"
    }
   },
   "cell_type": "code",
   "source": "x.shape",
   "id": "4d2a3850ad6cc23b",
   "outputs": [
    {
     "data": {
      "text/plain": [
       "torch.Size([12])"
      ]
     },
     "execution_count": 4,
     "metadata": {},
     "output_type": "execute_result"
    }
   ],
   "execution_count": 4
  },
  {
   "metadata": {
    "ExecuteTime": {
     "end_time": "2025-08-21T16:17:05.449955Z",
     "start_time": "2025-08-21T16:17:05.436447Z"
    }
   },
   "cell_type": "code",
   "source": "x.numel()",
   "id": "8fa497ef32a63a2b",
   "outputs": [
    {
     "data": {
      "text/plain": [
       "12"
      ]
     },
     "execution_count": 5,
     "metadata": {},
     "output_type": "execute_result"
    }
   ],
   "execution_count": 5
  },
  {
   "metadata": {
    "ExecuteTime": {
     "end_time": "2025-08-21T16:19:11.178929Z",
     "start_time": "2025-08-21T16:19:11.161243Z"
    }
   },
   "cell_type": "code",
   "source": [
    "# X = x.reshape(3, 4)\n",
    "X = x.reshape(-1, 4)\n",
    "X"
   ],
   "id": "d3aec99fdc2067c7",
   "outputs": [
    {
     "data": {
      "text/plain": [
       "tensor([[ 0,  1,  2,  3],\n",
       "        [ 4,  5,  6,  7],\n",
       "        [ 8,  9, 10, 11]])"
      ]
     },
     "execution_count": 7,
     "metadata": {},
     "output_type": "execute_result"
    }
   ],
   "execution_count": 7
  },
  {
   "metadata": {
    "ExecuteTime": {
     "end_time": "2025-08-22T01:10:59.031221Z",
     "start_time": "2025-08-22T01:10:58.973254Z"
    }
   },
   "cell_type": "code",
   "source": "torch.zeros([2, 3, 4])",
   "id": "a3a6c12b81691ad1",
   "outputs": [
    {
     "data": {
      "text/plain": [
       "tensor([[[0., 0., 0., 0.],\n",
       "         [0., 0., 0., 0.],\n",
       "         [0., 0., 0., 0.]],\n",
       "\n",
       "        [[0., 0., 0., 0.],\n",
       "         [0., 0., 0., 0.],\n",
       "         [0., 0., 0., 0.]]])"
      ]
     },
     "execution_count": 8,
     "metadata": {},
     "output_type": "execute_result"
    }
   ],
   "execution_count": 8
  },
  {
   "metadata": {
    "ExecuteTime": {
     "end_time": "2025-08-22T01:11:23.209630Z",
     "start_time": "2025-08-22T01:11:23.164362Z"
    }
   },
   "cell_type": "code",
   "source": "torch.ones([2, 3, 4])",
   "id": "55e541ec94c6e730",
   "outputs": [
    {
     "data": {
      "text/plain": [
       "tensor([[[1., 1., 1., 1.],\n",
       "         [1., 1., 1., 1.],\n",
       "         [1., 1., 1., 1.]],\n",
       "\n",
       "        [[1., 1., 1., 1.],\n",
       "         [1., 1., 1., 1.],\n",
       "         [1., 1., 1., 1.]]])"
      ]
     },
     "execution_count": 9,
     "metadata": {},
     "output_type": "execute_result"
    }
   ],
   "execution_count": 9
  },
  {
   "metadata": {
    "ExecuteTime": {
     "end_time": "2025-08-22T01:13:24.750599Z",
     "start_time": "2025-08-22T01:13:24.741729Z"
    }
   },
   "cell_type": "code",
   "source": "torch.randn([3, 4])",
   "id": "99bc1230a25e388b",
   "outputs": [
    {
     "data": {
      "text/plain": [
       "tensor([[-0.1059,  1.0937,  0.8082, -1.5878],\n",
       "        [-1.1357,  1.2133, -0.7879,  0.1978],\n",
       "        [ 0.2730, -0.9719,  1.4653, -0.6327]])"
      ]
     },
     "execution_count": 13,
     "metadata": {},
     "output_type": "execute_result"
    }
   ],
   "execution_count": 13
  },
  {
   "metadata": {
    "ExecuteTime": {
     "end_time": "2025-08-22T01:15:13.042087Z",
     "start_time": "2025-08-22T01:15:12.995391Z"
    }
   },
   "cell_type": "code",
   "source": [
    "torch.tensor([\n",
    "    [2, 1, 4, 3],\n",
    "    [1, 2, 3, 4],\n",
    "    [4, 3, 2, 1],\n",
    "])"
   ],
   "id": "b6f38b7064b34371",
   "outputs": [
    {
     "data": {
      "text/plain": [
       "tensor([[2, 1, 4, 3],\n",
       "        [1, 2, 3, 4],\n",
       "        [4, 3, 2, 1]])"
      ]
     },
     "execution_count": 14,
     "metadata": {},
     "output_type": "execute_result"
    }
   ],
   "execution_count": 14
  },
  {
   "metadata": {},
   "cell_type": "markdown",
   "source": "### 2.1.2 运算符",
   "id": "9b30cf852f5732c0"
  },
  {
   "metadata": {
    "ExecuteTime": {
     "end_time": "2025-08-22T01:26:01.953299Z",
     "start_time": "2025-08-22T01:26:01.941298Z"
    }
   },
   "cell_type": "code",
   "source": [
    "x = torch.tensor([1.0, 2, 4, 8])\n",
    "y = torch.tensor([2, 2, 2, 2])\n",
    "x + y, x - y, x * y, x / y, x ** y"
   ],
   "id": "be951f09cfa279a6",
   "outputs": [
    {
     "data": {
      "text/plain": [
       "(tensor([ 3.,  4.,  6., 10.]),\n",
       " tensor([-1.,  0.,  2.,  6.]),\n",
       " tensor([ 2.,  4.,  8., 16.]),\n",
       " tensor([0.5000, 1.0000, 2.0000, 4.0000]),\n",
       " tensor([ 1.,  4., 16., 64.]))"
      ]
     },
     "execution_count": 19,
     "metadata": {},
     "output_type": "execute_result"
    }
   ],
   "execution_count": 19
  },
  {
   "metadata": {
    "ExecuteTime": {
     "end_time": "2025-08-22T01:27:00.245047Z",
     "start_time": "2025-08-22T01:27:00.226270Z"
    }
   },
   "cell_type": "code",
   "source": "torch.exp(x)",
   "id": "5d5143789e0bfdeb",
   "outputs": [
    {
     "data": {
      "text/plain": [
       "tensor([2.7183e+00, 7.3891e+00, 5.4598e+01, 2.9810e+03])"
      ]
     },
     "execution_count": 22,
     "metadata": {},
     "output_type": "execute_result"
    }
   ],
   "execution_count": 22
  },
  {
   "metadata": {
    "ExecuteTime": {
     "end_time": "2025-08-22T01:33:23.268658Z",
     "start_time": "2025-08-22T01:33:23.224203Z"
    }
   },
   "cell_type": "code",
   "source": [
    "X = torch.arange(12, dtype=torch.float32).reshape([3, 4])\n",
    "Y = torch.tensor([\n",
    "    [2.0, 1, 4, 3],\n",
    "    [1, 2, 3, 4],\n",
    "    [4, 3, 2, 1],\n",
    "])\n",
    "torch.cat([X, Y], dim=0), torch.cat([X, Y], dim=1)"
   ],
   "id": "e07e876066aa2fd6",
   "outputs": [
    {
     "data": {
      "text/plain": [
       "(tensor([[ 0.,  1.,  2.,  3.],\n",
       "         [ 4.,  5.,  6.,  7.],\n",
       "         [ 8.,  9., 10., 11.],\n",
       "         [ 2.,  1.,  4.,  3.],\n",
       "         [ 1.,  2.,  3.,  4.],\n",
       "         [ 4.,  3.,  2.,  1.]]),\n",
       " tensor([[ 0.,  1.,  2.,  3.,  2.,  1.,  4.,  3.],\n",
       "         [ 4.,  5.,  6.,  7.,  1.,  2.,  3.,  4.],\n",
       "         [ 8.,  9., 10., 11.,  4.,  3.,  2.,  1.]]))"
      ]
     },
     "execution_count": 23,
     "metadata": {},
     "output_type": "execute_result"
    }
   ],
   "execution_count": 23
  },
  {
   "metadata": {
    "ExecuteTime": {
     "end_time": "2025-08-22T01:35:44.137458Z",
     "start_time": "2025-08-22T01:35:44.119923Z"
    }
   },
   "cell_type": "code",
   "source": "X",
   "id": "8b756ae291f64c34",
   "outputs": [
    {
     "data": {
      "text/plain": [
       "tensor([[ 0.,  1.,  2.,  3.],\n",
       "        [ 4.,  5.,  6.,  7.],\n",
       "        [ 8.,  9., 10., 11.]])"
      ]
     },
     "execution_count": 28,
     "metadata": {},
     "output_type": "execute_result"
    }
   ],
   "execution_count": 28
  },
  {
   "metadata": {
    "ExecuteTime": {
     "end_time": "2025-08-22T01:34:17.135962Z",
     "start_time": "2025-08-22T01:34:17.121903Z"
    }
   },
   "cell_type": "code",
   "source": "X == Y",
   "id": "49067606b71e5062",
   "outputs": [
    {
     "data": {
      "text/plain": [
       "tensor([[False,  True, False,  True],\n",
       "        [False, False, False, False],\n",
       "        [False, False, False, False]])"
      ]
     },
     "execution_count": 24,
     "metadata": {},
     "output_type": "execute_result"
    }
   ],
   "execution_count": 24
  },
  {
   "metadata": {
    "ExecuteTime": {
     "end_time": "2025-08-22T01:54:51.012382Z",
     "start_time": "2025-08-22T01:54:50.966201Z"
    }
   },
   "cell_type": "code",
   "source": "X < Y",
   "id": "9f4319fbc82cbd25",
   "outputs": [
    {
     "data": {
      "text/plain": [
       "tensor([[False, False, False, False],\n",
       "        [False, False, False, False],\n",
       "        [False, False, False, False]])"
      ]
     },
     "execution_count": 50,
     "metadata": {},
     "output_type": "execute_result"
    }
   ],
   "execution_count": 50
  },
  {
   "metadata": {
    "ExecuteTime": {
     "end_time": "2025-08-22T01:35:02.366465Z",
     "start_time": "2025-08-22T01:35:02.322512Z"
    }
   },
   "cell_type": "code",
   "source": "X.sum()",
   "id": "28baaf9565ac1e13",
   "outputs": [
    {
     "data": {
      "text/plain": [
       "tensor(66.)"
      ]
     },
     "execution_count": 26,
     "metadata": {},
     "output_type": "execute_result"
    }
   ],
   "execution_count": 26
  },
  {
   "metadata": {},
   "cell_type": "markdown",
   "source": "### 2.1.3 广播机制",
   "id": "76ddea64dcfcf87c"
  },
  {
   "metadata": {
    "ExecuteTime": {
     "end_time": "2025-08-22T01:39:24.481317Z",
     "start_time": "2025-08-22T01:39:24.467875Z"
    }
   },
   "cell_type": "code",
   "source": [
    "a = torch.arange(3).reshape([3, 1])\n",
    "b = torch.arange(2).reshape([1, 2])\n",
    "a, b"
   ],
   "id": "71b7501e81b0ccf",
   "outputs": [
    {
     "data": {
      "text/plain": [
       "(tensor([[0],\n",
       "         [1],\n",
       "         [2]]),\n",
       " tensor([[0, 1]]))"
      ]
     },
     "execution_count": 29,
     "metadata": {},
     "output_type": "execute_result"
    }
   ],
   "execution_count": 29
  },
  {
   "metadata": {
    "ExecuteTime": {
     "end_time": "2025-08-22T01:39:28.744152Z",
     "start_time": "2025-08-22T01:39:28.730570Z"
    }
   },
   "cell_type": "code",
   "source": "a + b",
   "id": "c7c7f1c4ffddeeef",
   "outputs": [
    {
     "data": {
      "text/plain": [
       "tensor([[0, 1],\n",
       "        [1, 2],\n",
       "        [2, 3]])"
      ]
     },
     "execution_count": 30,
     "metadata": {},
     "output_type": "execute_result"
    }
   ],
   "execution_count": 30
  },
  {
   "metadata": {
    "ExecuteTime": {
     "end_time": "2025-08-22T01:57:15.590465Z",
     "start_time": "2025-08-22T01:57:15.546768Z"
    }
   },
   "cell_type": "code",
   "source": [
    "# 试试三阶张量的广播机制\n",
    "j = torch.arange(6).reshape([1, 2, 3])\n",
    "k = torch.arange(6).reshape([2, 1, 3])\n",
    "j, k"
   ],
   "id": "ca58144953e88090",
   "outputs": [
    {
     "data": {
      "text/plain": [
       "(tensor([[[0, 1, 2],\n",
       "          [3, 4, 5]]]),\n",
       " tensor([[[0, 1, 2]],\n",
       " \n",
       "         [[3, 4, 5]]]))"
      ]
     },
     "execution_count": 52,
     "metadata": {},
     "output_type": "execute_result"
    }
   ],
   "execution_count": 52
  },
  {
   "metadata": {
    "ExecuteTime": {
     "end_time": "2025-08-22T01:57:56.275197Z",
     "start_time": "2025-08-22T01:57:56.264677Z"
    }
   },
   "cell_type": "code",
   "source": "j + k",
   "id": "2cc7980f0156a64a",
   "outputs": [
    {
     "data": {
      "text/plain": [
       "tensor([[[ 0,  2,  4],\n",
       "         [ 3,  5,  7]],\n",
       "\n",
       "        [[ 3,  5,  7],\n",
       "         [ 6,  8, 10]]])"
      ]
     },
     "execution_count": 53,
     "metadata": {},
     "output_type": "execute_result"
    }
   ],
   "execution_count": 53
  },
  {
   "metadata": {},
   "cell_type": "markdown",
   "source": "### 2.1.4 索引和切片",
   "id": "7876d1c6ac2357e6"
  },
  {
   "metadata": {
    "ExecuteTime": {
     "end_time": "2025-08-22T01:40:43.145727Z",
     "start_time": "2025-08-22T01:40:43.132049Z"
    }
   },
   "cell_type": "code",
   "source": "X",
   "id": "f10ab2f459457f54",
   "outputs": [
    {
     "data": {
      "text/plain": [
       "tensor([[ 0.,  1.,  2.,  3.],\n",
       "        [ 4.,  5.,  6.,  7.],\n",
       "        [ 8.,  9., 10., 11.]])"
      ]
     },
     "execution_count": 31,
     "metadata": {},
     "output_type": "execute_result"
    }
   ],
   "execution_count": 31
  },
  {
   "metadata": {
    "ExecuteTime": {
     "end_time": "2025-08-22T01:40:58.803867Z",
     "start_time": "2025-08-22T01:40:58.758698Z"
    }
   },
   "cell_type": "code",
   "source": "X[-1], X[1:3]",
   "id": "dba52d3d9f20d596",
   "outputs": [
    {
     "data": {
      "text/plain": [
       "(tensor([ 8.,  9., 10., 11.]),\n",
       " tensor([[ 4.,  5.,  6.,  7.],\n",
       "         [ 8.,  9., 10., 11.]]))"
      ]
     },
     "execution_count": 32,
     "metadata": {},
     "output_type": "execute_result"
    }
   ],
   "execution_count": 32
  },
  {
   "metadata": {
    "ExecuteTime": {
     "end_time": "2025-08-22T01:42:23.748604Z",
     "start_time": "2025-08-22T01:42:23.702208Z"
    }
   },
   "cell_type": "code",
   "source": [
    "X[1, 2] = 9\n",
    "X"
   ],
   "id": "966e3b1b836d5c6",
   "outputs": [
    {
     "data": {
      "text/plain": [
       "tensor([[ 0.,  1.,  2.,  3.],\n",
       "        [ 4.,  5.,  9.,  7.],\n",
       "        [ 8.,  9., 10., 11.]])"
      ]
     },
     "execution_count": 33,
     "metadata": {},
     "output_type": "execute_result"
    }
   ],
   "execution_count": 33
  },
  {
   "metadata": {
    "ExecuteTime": {
     "end_time": "2025-08-22T01:42:43.351511Z",
     "start_time": "2025-08-22T01:42:43.306998Z"
    }
   },
   "cell_type": "code",
   "source": [
    "X[0:2, :] = 12\n",
    "X"
   ],
   "id": "2380a120f0c01fd1",
   "outputs": [
    {
     "data": {
      "text/plain": [
       "tensor([[12., 12., 12., 12.],\n",
       "        [12., 12., 12., 12.],\n",
       "        [ 8.,  9., 10., 11.]])"
      ]
     },
     "execution_count": 34,
     "metadata": {},
     "output_type": "execute_result"
    }
   ],
   "execution_count": 34
  },
  {
   "metadata": {},
   "cell_type": "markdown",
   "source": "### 2.1.5 节省内存",
   "id": "94e901411d3a917e"
  },
  {
   "metadata": {
    "ExecuteTime": {
     "end_time": "2025-08-22T01:48:13.341369Z",
     "start_time": "2025-08-22T01:48:13.332368Z"
    }
   },
   "cell_type": "code",
   "source": "X, Y",
   "id": "a8c54f1e9bd2d19d",
   "outputs": [
    {
     "data": {
      "text/plain": [
       "(tensor([[12., 12., 12., 12.],\n",
       "         [12., 12., 12., 12.],\n",
       "         [ 8.,  9., 10., 11.]]),\n",
       " tensor([[14., 13., 16., 15.],\n",
       "         [13., 14., 15., 16.],\n",
       "         [12., 12., 12., 12.]]))"
      ]
     },
     "execution_count": 37,
     "metadata": {},
     "output_type": "execute_result"
    }
   ],
   "execution_count": 37
  },
  {
   "metadata": {
    "ExecuteTime": {
     "end_time": "2025-08-22T01:47:54.152928Z",
     "start_time": "2025-08-22T01:47:54.139945Z"
    }
   },
   "cell_type": "code",
   "source": [
    "before = id(Y)\n",
    "Y = Y + X\n",
    "id(Y) == before"
   ],
   "id": "eb14ee89477981ed",
   "outputs": [
    {
     "data": {
      "text/plain": [
       "False"
      ]
     },
     "execution_count": 36,
     "metadata": {},
     "output_type": "execute_result"
    }
   ],
   "execution_count": 36
  },
  {
   "metadata": {
    "ExecuteTime": {
     "end_time": "2025-08-22T01:50:17.837086Z",
     "start_time": "2025-08-22T01:50:17.829570Z"
    }
   },
   "cell_type": "code",
   "source": [
    "Z = torch.zeros_like(Y)\n",
    "print(f'{id(Z) = }')\n",
    "Z[:] = X + Y\n",
    "print(f'{id(Z) = }')"
   ],
   "id": "e3fcf068e51fa0ed",
   "outputs": [
    {
     "name": "stdout",
     "output_type": "stream",
     "text": [
      "id(Z) = 2330043397680\n",
      "id(Z) = 2330043397680\n"
     ]
    }
   ],
   "execution_count": 45
  },
  {
   "metadata": {
    "ExecuteTime": {
     "end_time": "2025-08-22T01:50:12.886179Z",
     "start_time": "2025-08-22T01:50:12.840211Z"
    }
   },
   "cell_type": "code",
   "source": [
    "before = id(X)\n",
    "X += Y\n",
    "id(X) == before"
   ],
   "id": "5299cf91c729a246",
   "outputs": [
    {
     "data": {
      "text/plain": [
       "True"
      ]
     },
     "execution_count": 44,
     "metadata": {},
     "output_type": "execute_result"
    }
   ],
   "execution_count": 44
  },
  {
   "metadata": {},
   "cell_type": "markdown",
   "source": "### 2.1.6 转换为其他Python对象",
   "id": "8c252ca1220e7699"
  },
  {
   "metadata": {
    "ExecuteTime": {
     "end_time": "2025-08-22T01:53:38.074614Z",
     "start_time": "2025-08-22T01:53:38.029060Z"
    }
   },
   "cell_type": "code",
   "source": [
    "A = X.numpy()\n",
    "B = torch.tensor(A)\n",
    "type(A), type(B)"
   ],
   "id": "8e3b69427c2ab027",
   "outputs": [
    {
     "data": {
      "text/plain": [
       "(numpy.ndarray, torch.Tensor)"
      ]
     },
     "execution_count": 48,
     "metadata": {},
     "output_type": "execute_result"
    }
   ],
   "execution_count": 48
  },
  {
   "metadata": {
    "ExecuteTime": {
     "end_time": "2025-08-22T01:54:13.931472Z",
     "start_time": "2025-08-22T01:54:13.885569Z"
    }
   },
   "cell_type": "code",
   "source": [
    "a = torch.tensor([3.5])\n",
    "a, a.item(), float(a), int(a)"
   ],
   "id": "cba3ec191fd11eb9",
   "outputs": [
    {
     "data": {
      "text/plain": [
       "(tensor([3.5000]), 3.5, 3.5, 3)"
      ]
     },
     "execution_count": 49,
     "metadata": {},
     "output_type": "execute_result"
    }
   ],
   "execution_count": 49
  },
  {
   "metadata": {},
   "cell_type": "code",
   "outputs": [],
   "execution_count": null,
   "source": "",
   "id": "c5285cb5fb0c1fe6"
  }
 ],
 "metadata": {
  "kernelspec": {
   "display_name": "Python 3",
   "language": "python",
   "name": "python3"
  },
  "language_info": {
   "codemirror_mode": {
    "name": "ipython",
    "version": 2
   },
   "file_extension": ".py",
   "mimetype": "text/x-python",
   "name": "python",
   "nbconvert_exporter": "python",
   "pygments_lexer": "ipython2",
   "version": "2.7.6"
  }
 },
 "nbformat": 4,
 "nbformat_minor": 5
}
