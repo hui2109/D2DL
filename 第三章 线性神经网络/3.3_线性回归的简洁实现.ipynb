{
 "cells": [
  {
   "cell_type": "code",
   "id": "initial_id",
   "metadata": {
    "collapsed": true,
    "ExecuteTime": {
     "end_time": "2025-08-27T13:06:38.376652Z",
     "start_time": "2025-08-27T13:06:38.370332Z"
    }
   },
   "source": [
    "import numpy as np\n",
    "import torch\n",
    "from torch.utils import data\n",
    "from d2l import torch as d2l"
   ],
   "outputs": [],
   "execution_count": 106
  },
  {
   "metadata": {},
   "cell_type": "markdown",
   "source": "### 3.3.1 生成数据集",
   "id": "646209cb4609edd1"
  },
  {
   "metadata": {
    "ExecuteTime": {
     "end_time": "2025-08-27T13:06:38.408414Z",
     "start_time": "2025-08-27T13:06:38.403415Z"
    }
   },
   "cell_type": "code",
   "source": [
    "true_w = torch.tensor([2, -3.4])\n",
    "true_b = 4.2\n",
    "features, labels = d2l.synthetic_data(true_w, true_b, 1000)"
   ],
   "id": "bd20e4754bddbbe5",
   "outputs": [],
   "execution_count": 107
  },
  {
   "metadata": {},
   "cell_type": "markdown",
   "source": "### 3.3.2 读取数据集",
   "id": "8286a45415e8b6d"
  },
  {
   "metadata": {
    "ExecuteTime": {
     "end_time": "2025-08-27T13:06:38.439912Z",
     "start_time": "2025-08-27T13:06:38.422417Z"
    }
   },
   "cell_type": "code",
   "source": [
    "batch_size = 10\n",
    "data_iter = d2l.load_array([features, labels], batch_size)"
   ],
   "id": "35df8b89e0fe5b91",
   "outputs": [],
   "execution_count": 108
  },
  {
   "metadata": {
    "ExecuteTime": {
     "end_time": "2025-08-27T13:06:38.455912Z",
     "start_time": "2025-08-27T13:06:38.445911Z"
    }
   },
   "cell_type": "code",
   "source": "next(iter(data_iter))",
   "id": "da84f30a5ad1bed6",
   "outputs": [
    {
     "data": {
      "text/plain": [
       "[tensor([[ 1.1488, -0.5100],\n",
       "         [ 0.1931, -0.0631],\n",
       "         [-1.4933,  0.9024],\n",
       "         [ 0.5273,  1.6007],\n",
       "         [ 0.9766, -0.1138],\n",
       "         [-0.6890,  0.3016],\n",
       "         [ 1.4620,  0.1665],\n",
       "         [-1.4892,  1.1167],\n",
       "         [ 0.3546, -0.4864],\n",
       "         [-1.3451, -1.0294]]),\n",
       " tensor([[ 8.2480],\n",
       "         [ 4.7969],\n",
       "         [-1.8620],\n",
       "         [-0.2025],\n",
       "         [ 6.5342],\n",
       "         [ 1.7883],\n",
       "         [ 6.5640],\n",
       "         [-2.5800],\n",
       "         [ 6.5806],\n",
       "         [ 5.0094]])]"
      ]
     },
     "execution_count": 109,
     "metadata": {},
     "output_type": "execute_result"
    }
   ],
   "execution_count": 109
  },
  {
   "metadata": {},
   "cell_type": "markdown",
   "source": "### 3.3.3 定义模型",
   "id": "17df838b894e4953"
  },
  {
   "metadata": {
    "ExecuteTime": {
     "end_time": "2025-08-27T13:06:38.471910Z",
     "start_time": "2025-08-27T13:06:38.461912Z"
    }
   },
   "cell_type": "code",
   "source": [
    "from torch import nn\n",
    "\n",
    "net = nn.Sequential(nn.Linear(2, 1))"
   ],
   "id": "37a8b2773eccec6b",
   "outputs": [],
   "execution_count": 110
  },
  {
   "metadata": {},
   "cell_type": "markdown",
   "source": "### 3.3.4 初始化模型参数",
   "id": "3c6613db40c177a3"
  },
  {
   "metadata": {
    "ExecuteTime": {
     "end_time": "2025-08-27T13:06:38.502571Z",
     "start_time": "2025-08-27T13:06:38.489571Z"
    }
   },
   "cell_type": "code",
   "source": [
    "net[0].weight.data.normal_(0, 0.01)\n",
    "net[0].bias.data.fill_(0)"
   ],
   "id": "d15eee4ff7e1867c",
   "outputs": [
    {
     "data": {
      "text/plain": [
       "tensor([0.])"
      ]
     },
     "execution_count": 111,
     "metadata": {},
     "output_type": "execute_result"
    }
   ],
   "execution_count": 111
  },
  {
   "metadata": {
    "ExecuteTime": {
     "end_time": "2025-08-27T13:06:38.517574Z",
     "start_time": "2025-08-27T13:06:38.509570Z"
    }
   },
   "cell_type": "code",
   "source": "list(net.parameters())",
   "id": "a559ac1769bacbb6",
   "outputs": [
    {
     "data": {
      "text/plain": [
       "[Parameter containing:\n",
       " tensor([[-0.0015, -0.0109]], requires_grad=True),\n",
       " Parameter containing:\n",
       " tensor([0.], requires_grad=True)]"
      ]
     },
     "execution_count": 112,
     "metadata": {},
     "output_type": "execute_result"
    }
   ],
   "execution_count": 112
  },
  {
   "metadata": {},
   "cell_type": "markdown",
   "source": "### 3.3.5 定义损失函数",
   "id": "4716713ca662df9b"
  },
  {
   "metadata": {
    "ExecuteTime": {
     "end_time": "2025-08-27T13:06:38.533087Z",
     "start_time": "2025-08-27T13:06:38.523574Z"
    }
   },
   "cell_type": "code",
   "source": "loss = nn.MSELoss()",
   "id": "d0a6a19395110743",
   "outputs": [],
   "execution_count": 113
  },
  {
   "metadata": {},
   "cell_type": "markdown",
   "source": "### 3.3.6 定义优化算法",
   "id": "8a7d938e3abf9bc4"
  },
  {
   "metadata": {
    "ExecuteTime": {
     "end_time": "2025-08-27T13:06:38.562999Z",
     "start_time": "2025-08-27T13:06:38.555998Z"
    }
   },
   "cell_type": "code",
   "source": "trainer = torch.optim.SGD(net.parameters(), lr=0.03)",
   "id": "86b4b320da56f03e",
   "outputs": [],
   "execution_count": 114
  },
  {
   "metadata": {},
   "cell_type": "markdown",
   "source": "### 3.3.7 训练",
   "id": "d22088391c48bed9"
  },
  {
   "metadata": {
    "ExecuteTime": {
     "end_time": "2025-08-27T13:06:38.643170Z",
     "start_time": "2025-08-27T13:06:38.568Z"
    }
   },
   "cell_type": "code",
   "source": [
    "num_epochs = 3\n",
    "for epoch in range(num_epochs):\n",
    "    for X, y in data_iter:\n",
    "        l = loss(net(X), y)\n",
    "        trainer.zero_grad()\n",
    "        l.backward()\n",
    "        trainer.step()\n",
    "\n",
    "    l = loss(net(features), labels)\n",
    "    print(f'epoch: {epoch + 1}, loss {l:f}')"
   ],
   "id": "f1fdfd1e52e3054d",
   "outputs": [
    {
     "name": "stdout",
     "output_type": "stream",
     "text": [
      "epoch: 1, loss 0.000204\n",
      "epoch: 2, loss 0.000101\n",
      "epoch: 3, loss 0.000100\n"
     ]
    }
   ],
   "execution_count": 115
  },
  {
   "metadata": {
    "ExecuteTime": {
     "end_time": "2025-08-27T13:06:38.659170Z",
     "start_time": "2025-08-27T13:06:38.651169Z"
    }
   },
   "cell_type": "code",
   "source": [
    "w = net[0].weight.data\n",
    "print(f'w的估计误差: {true_w - w.reshape(true_w.shape)}')\n",
    "\n",
    "b = net[0].bias.data\n",
    "print(f'b的误差: {true_b - b}')"
   ],
   "id": "2d4669524e1eb08a",
   "outputs": [
    {
     "name": "stdout",
     "output_type": "stream",
     "text": [
      "w的估计误差: tensor([7.8821e-04, 6.8903e-05])\n",
      "b的误差: tensor([0.0009])\n"
     ]
    }
   ],
   "execution_count": 116
  },
  {
   "metadata": {
    "ExecuteTime": {
     "end_time": "2025-08-27T13:06:38.675170Z",
     "start_time": "2025-08-27T13:06:38.668169Z"
    }
   },
   "cell_type": "code",
   "source": "w, b",
   "id": "4797eb1c51c84390",
   "outputs": [
    {
     "data": {
      "text/plain": [
       "(tensor([[ 1.9992, -3.4001]]), tensor([4.1991]))"
      ]
     },
     "execution_count": 117,
     "metadata": {},
     "output_type": "execute_result"
    }
   ],
   "execution_count": 117
  },
  {
   "metadata": {
    "ExecuteTime": {
     "end_time": "2025-08-27T13:06:38.707171Z",
     "start_time": "2025-08-27T13:06:38.693169Z"
    }
   },
   "cell_type": "code",
   "source": "",
   "id": "6cb78ed05dbcac16",
   "outputs": [],
   "execution_count": null
  }
 ],
 "metadata": {
  "kernelspec": {
   "display_name": "Python 3",
   "language": "python",
   "name": "python3"
  },
  "language_info": {
   "codemirror_mode": {
    "name": "ipython",
    "version": 2
   },
   "file_extension": ".py",
   "mimetype": "text/x-python",
   "name": "python",
   "nbconvert_exporter": "python",
   "pygments_lexer": "ipython2",
   "version": "2.7.6"
  }
 },
 "nbformat": 4,
 "nbformat_minor": 5
}
